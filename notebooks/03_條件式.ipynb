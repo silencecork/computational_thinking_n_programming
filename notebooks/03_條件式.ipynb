{
 "cells": [
  {
   "cell_type": "markdown",
   "metadata": {
    "colab_type": "text",
    "id": "kAL9ndPnrVpW",
    "slideshow": {
     "slide_type": "slide"
    }
   },
   "source": [
    "# **條件式**"
   ]
  },
  {
   "cell_type": "code",
   "execution_count": null,
   "metadata": {
    "colab": {
     "base_uri": "https://localhost:8080/",
     "height": 51
    },
    "colab_type": "code",
    "id": "E1ZREgqRthPq",
    "outputId": "147e2a1a-157d-4c88-b975-fb909f41a18d",
    "slideshow": {
     "slide_type": "subslide"
    }
   },
   "outputs": [
    {
     "name": "stdout",
     "output_type": "stream",
     "text": [
      "Smaller\n",
      "Finish\n"
     ]
    }
   ],
   "source": [
    "x = 5\n",
    "if x < 10:\n",
    "    print('Smaller')\n",
    "if x > 20:\n",
    "    print('Bigger')\n",
    "print('Finish')"
   ]
  },
  {
   "cell_type": "markdown",
   "metadata": {
    "colab_type": "text",
    "id": "YXLvO2CAtWdC",
    "slideshow": {
     "slide_type": "slide"
    }
   },
   "source": [
    "## **條件式步驟**\n",
    "![無標題繪圖(2).png](data:image/png;base64,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)"
   ]
  },
  {
   "cell_type": "markdown",
   "metadata": {
    "colab_type": "text",
    "id": "gDv4u6ZCtlX3",
    "slideshow": {
     "slide_type": "slide"
    }
   },
   "source": [
    "## **比較運算子 Comparison Operators**\n",
    "- 布林(Boolean)表達式問一個問題並產生是或否結果，我們用它來控製程序流程\n",
    "- 使用布林表達式的比較結果為True / False 或 Yes / No\n",
    "- 比較運算子會查看變數內容，但不更改變數的內容\n"
   ]
  },
  {
   "cell_type": "markdown",
   "metadata": {
    "colab_type": "text",
    "id": "nfcZuWCxOrHZ",
    "slideshow": {
     "slide_type": "subslide"
    }
   },
   "source": [
    "- <\n",
    "  - 小於\n",
    "- <=\n",
    "  - 小於等於\n",
    "- ==\n",
    "  - 等於\n",
    "- \\>= \n",
    "  - 大於等於\n",
    "- \\>\n",
    "  - 大於\n",
    "- !=\n",
    "  - 不等於\n"
   ]
  },
  {
   "cell_type": "code",
   "execution_count": null,
   "metadata": {
    "colab": {
     "base_uri": "https://localhost:8080/",
     "height": 119
    },
    "colab_type": "code",
    "id": "dZIzexrHO6Ex",
    "outputId": "fea43083-bc66-462e-ae07-bdc58e605b5b",
    "slideshow": {
     "slide_type": "subslide"
    }
   },
   "outputs": [
    {
     "name": "stdout",
     "output_type": "stream",
     "text": [
      "等於 5\n",
      "大於 4\n",
      "大於等於 5\n",
      "小於 6\n",
      "小於等於 5\n",
      "不等於 6\n"
     ]
    }
   ],
   "source": [
    "x = 5\n",
    "if x == 5:\n",
    "  print('等於 5')\n",
    "if x > 4:\n",
    "  print('大於 4')\n",
    "if x >= 5:\n",
    "  print('大於等於 5')\n",
    "if x < 6:\n",
    "  print('小於 6')\n",
    "if x <= 5:\n",
    "  print('小於等於 5')\n",
    "if x != 6:\n",
    "  print('不等於 6')"
   ]
  },
  {
   "cell_type": "markdown",
   "metadata": {
    "colab_type": "text",
    "id": "ra1kVcpDPLqM",
    "slideshow": {
     "slide_type": "slide"
    }
   },
   "source": [
    "## **單向條件式 One-way Decision**"
   ]
  },
  {
   "cell_type": "code",
   "execution_count": null,
   "metadata": {
    "colab": {
     "base_uri": "https://localhost:8080/",
     "height": 136
    },
    "colab_type": "code",
    "id": "Y9piQpSKPZXV",
    "outputId": "cc525896-191a-4c06-f771-9ed3aaab18a9",
    "slideshow": {
     "slide_type": "subslide"
    }
   },
   "outputs": [
    {
     "name": "stdout",
     "output_type": "stream",
     "text": [
      "Before 5\n",
      "Is 5\n",
      "Is Still 5\n",
      "Third 5\n",
      "Afterward 5\n",
      "Before 6\n",
      "Afterward 6\n"
     ]
    }
   ],
   "source": [
    "x = 5\n",
    "print('Before 5')\n",
    "if x == 5:\n",
    "  print('Is 5')\n",
    "  print('Is Still 5')\n",
    "  print('Third 5')\n",
    "print('Afterward 5')\n",
    "print('Before 6')\n",
    "if x == 6:\n",
    "  print('Is 6')\n",
    "  print('Is Still 6')\n",
    "  print('Third 6')\n",
    "print('Afterward 6')"
   ]
  },
  {
   "cell_type": "markdown",
   "metadata": {
    "colab_type": "text",
    "id": "LWJXDzXhTScr",
    "slideshow": {
     "slide_type": "subslide"
    }
   },
   "source": [
    "![無標題繪圖(3).png](data:image/png;base64,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)"
   ]
  },
  {
   "cell_type": "markdown",
   "metadata": {
    "colab_type": "text",
    "id": "MPGyiLYKTULQ",
    "slideshow": {
     "slide_type": "slide"
    }
   },
   "source": [
    "## **縮排 Indentation**\n",
    "- 在if或for之後增加縮排\n",
    "- 保持縮排指明if或for程式碼區塊的範圍（哪些行受if / for影響）\n",
    "- 將縮排減少到if語句或for語句的級別，以指示區塊(Block)的結尾\n",
    "- 空行(Blank Lines)將被忽略，不會影響縮排\n",
    "- 註釋(Comments)不論縮排或是不縮排都是被忽略\n",
    "\n",
    "\n"
   ]
  },
  {
   "cell_type": "markdown",
   "metadata": {
    "colab_type": "text",
    "id": "xGETkBdKQzZ5",
    "slideshow": {
     "slide_type": "subslide"
    }
   },
   "source": [
    "### 警告：不要使用Tab縮排\n",
    "- 使用Tab縮排與使用多個空白鍵進行縮排外表看起來相同\n",
    "- 但混用在同一個程式碼中時就會出現「indentation errors」\n",
    "- 在Colab中編輯程式碼時會自動調整"
   ]
  },
  {
   "cell_type": "code",
   "execution_count": null,
   "metadata": {
    "colab": {
     "base_uri": "https://localhost:8080/",
     "height": 68
    },
    "colab_type": "code",
    "id": "hjEG8P1nSNJ8",
    "outputId": "1b015f8b-322d-4f58-c308-6c18fc14e21f",
    "slideshow": {
     "slide_type": "subslide"
    }
   },
   "outputs": [
    {
     "name": "stdout",
     "output_type": "stream",
     "text": [
      "Bigger than 2\n",
      "Still bigger\n",
      "Done with 2\n"
     ]
    }
   ],
   "source": [
    "x = 5\n",
    "if x > 2 :\n",
    "    # 增加縮排，表示是if要執行的內容\n",
    "    print('Bigger than 2')\n",
    "    print('Still bigger')\n",
    "\n",
    "# 跳出if，文字要縮排回跟if相同的位置\n",
    "print('Done with 2')\n",
    "\n",
    "# 這是沒有縮排\n",
    "for i in range(5) :\n",
    "    # 這是第一層縮排\n",
    "    print(i)\n",
    "    if i > 2 : \n",
    "        # 這是第二層縮排\n",
    "        print('Bigger than 2')\n",
    "    # 恢復到第一層縮排\n",
    "    print('Done with i', i)\n",
    "# 恢復到沒有縮排\n",
    "print('All Done')"
   ]
  },
  {
   "cell_type": "markdown",
   "metadata": {
    "colab_type": "text",
    "id": "B-NHAJHgRvHS",
    "slideshow": {
     "slide_type": "subslide"
    }
   },
   "source": [
    "## **練習**\n",
    "- 寫一個程式，設定一個變數bmi，值自己指定\n",
    "- 如果bmi大於24.9，就印出「不健康」"
   ]
  },
  {
   "cell_type": "markdown",
   "metadata": {
    "colab_type": "text",
    "id": "1VnW8zkMSszI",
    "slideshow": {
     "slide_type": "slide"
    }
   },
   "source": [
    "## **巢狀條件式 Nested Decision**\n"
   ]
  },
  {
   "cell_type": "code",
   "execution_count": null,
   "metadata": {
    "colab": {
     "base_uri": "https://localhost:8080/",
     "height": 68
    },
    "colab_type": "code",
    "id": "TP1j1UALS7MD",
    "outputId": "2be63a95-fd3d-4060-e360-226591c6370a",
    "slideshow": {
     "slide_type": "subslide"
    }
   },
   "outputs": [
    {
     "name": "stdout",
     "output_type": "stream",
     "text": [
      "More than one\n",
      "Less than 100\n",
      "All Done\n"
     ]
    }
   ],
   "source": [
    "x = 42\n",
    "# 條件式一\n",
    "if x > 1:\n",
    "  print('More than one')\n",
    "  # 條件式中的條件式\n",
    "  if x < 100:\n",
    "    print('Less than 100')\n",
    "print('All Done')"
   ]
  },
  {
   "cell_type": "markdown",
   "metadata": {
    "colab_type": "text",
    "id": "rp4AvO_XTIzl",
    "slideshow": {
     "slide_type": "subslide"
    }
   },
   "source": [
    "![無標題繪圖(4).png](data:image/png;base64,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)"
   ]
  },
  {
   "cell_type": "markdown",
   "metadata": {
    "colab_type": "text",
    "id": "Z-GgIiIsU_ie",
    "slideshow": {
     "slide_type": "slide"
    }
   },
   "source": [
    "## **雙向條件式 Two-way Decision**\n",
    "- 有時我們想在判斷式為true的情況下做一件事，而在false的情況下做另一件事\n",
    "- 就像路上的叉子-我們**只能選擇其中一條路徑**，但不能全部選擇"
   ]
  },
  {
   "cell_type": "code",
   "execution_count": null,
   "metadata": {
    "colab": {
     "base_uri": "https://localhost:8080/",
     "height": 51
    },
    "colab_type": "code",
    "id": "kN0UG1uDWkmc",
    "outputId": "11d98263-6bbb-41fb-dec8-c6d7f40d1c77",
    "slideshow": {
     "slide_type": "subslide"
    }
   },
   "outputs": [
    {
     "name": "stdout",
     "output_type": "stream",
     "text": [
      "Bigger\n",
      "All done\n"
     ]
    }
   ],
   "source": [
    "x = 4\n",
    "\n",
    "if x > 2 :\n",
    "    print('Bigger')\n",
    "else :\n",
    "    print('Smaller')\n",
    "\n",
    "print('All done')"
   ]
  },
  {
   "cell_type": "markdown",
   "metadata": {
    "colab_type": "text",
    "id": "uy_fmSvEX0EN",
    "slideshow": {
     "slide_type": "subslide"
    }
   },
   "source": [
    "### 視覺化呈現條件式\n",
    "![無標題繪圖(10).png](data:image/png;base64,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)"
   ]
  },
  {
   "cell_type": "markdown",
   "metadata": {
    "colab_type": "text",
    "id": "ra8c9OYlLsii",
    "slideshow": {
     "slide_type": "slide"
    }
   },
   "source": [
    "## **作業**\n",
    "- 寫一個程式，請用戶輸入工作的小時與每小時的薪資。當工作超過**40小時**後，之後每小時的薪資是1.5倍\n",
    "- 程式寫完後，以工作45小時，並且以每小時時薪10元來測試。最後結果應該會是498.75\n",
    "- 提示：要使用float()將使用者輸入的字串轉成數字"
   ]
  },
  {
   "cell_type": "markdown",
   "metadata": {
    "colab_type": "text",
    "id": "qfYy5dgPCDR6",
    "slideshow": {
     "slide_type": "slide"
    }
   },
   "source": [
    "## **多重條件式 Multi-way**"
   ]
  },
  {
   "cell_type": "markdown",
   "metadata": {
    "colab_type": "text",
    "id": "u6VPxgHU39fC",
    "slideshow": {
     "slide_type": "subslide"
    }
   },
   "source": [
    "### 多重條件式 Multi-way (1)\n",
    "- 條件式可以是if - elif - else"
   ]
  },
  {
   "cell_type": "code",
   "execution_count": null,
   "metadata": {
    "colab": {},
    "colab_type": "code",
    "id": "JMGM1Kxu4B5Z",
    "slideshow": {
     "slide_type": "fragment"
    }
   },
   "outputs": [],
   "source": [
    "# 用以下數字代換，來看看條件式路徑\n",
    "# x = 0\n",
    "# x = 5\n",
    "x = 20\n",
    "if x < 2:\n",
    "    print('small')\n",
    "elif x < 10:\n",
    "    print('Medium')\n",
    "else:\n",
    "    print('LARGE')\n",
    "print('All Done')"
   ]
  },
  {
   "cell_type": "markdown",
   "metadata": {
    "colab_type": "text",
    "id": "FeE3ECCo5TR8",
    "slideshow": {
     "slide_type": "subslide"
    }
   },
   "source": [
    "![無標題繪圖(11).png](data:image/png;base64,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)"
   ]
  },
  {
   "cell_type": "markdown",
   "metadata": {
    "colab_type": "text",
    "id": "HZZZeKWP5zkj",
    "slideshow": {
     "slide_type": "subslide"
    }
   },
   "source": [
    "### 多重條件式 Multi-way (2)\n",
    "- 條件式可以只有if - elif，沒有else"
   ]
  },
  {
   "cell_type": "code",
   "execution_count": 2,
   "metadata": {
    "colab": {
     "base_uri": "https://localhost:8080/",
     "height": 51
    },
    "colab_type": "code",
    "id": "9YdJ04ac5_L1",
    "outputId": "68559513-2187-4a33-d8a6-9274f60f5e5d",
    "slideshow": {
     "slide_type": "fragment"
    }
   },
   "outputs": [
    {
     "name": "stdout",
     "output_type": "stream",
     "text": [
      "Medium\n",
      "All Done\n"
     ]
    }
   ],
   "source": [
    "# 以下條件式，沒有else，也是可以的\n",
    "x = 5\n",
    "if x < 2:\n",
    "    print('small')\n",
    "elif x < 10:\n",
    "    print('Medium')\n",
    "print('All Done')"
   ]
  },
  {
   "cell_type": "markdown",
   "metadata": {
    "colab_type": "text",
    "id": "dTKll21v6Ix5",
    "slideshow": {
     "slide_type": "subslide"
    }
   },
   "source": [
    "### 多重條件式 Multi-way (3)\n",
    "- 條件式可以是 if - elif - elif - elif - ... - elif - else。非常多個elif也沒關係"
   ]
  },
  {
   "cell_type": "code",
   "execution_count": 3,
   "metadata": {
    "colab": {
     "base_uri": "https://localhost:8080/",
     "height": 34
    },
    "colab_type": "code",
    "id": "cBKy4Lie6MNX",
    "outputId": "445f53e9-e934-4de5-ed7f-7379d3937abf",
    "slideshow": {
     "slide_type": "fragment"
    }
   },
   "outputs": [
    {
     "name": "stdout",
     "output_type": "stream",
     "text": [
      "Ginormous\n"
     ]
    }
   ],
   "source": [
    "# 用以下數字代換，來看看條件式路徑\n",
    "# x = 0\n",
    "# x = 20\n",
    "x = 400\n",
    "if x < 2:\n",
    "    print('small')\n",
    "elif x < 10:\n",
    "    print('Medium')\n",
    "elif x < 20:\n",
    "    print('Big')\n",
    "elif x < 40:\n",
    "    print('Large')\n",
    "elif x < 100:\n",
    "    print('Huge')\n",
    "else:\n",
    "    print('Ginormous')"
   ]
  },
  {
   "cell_type": "markdown",
   "metadata": {
    "colab_type": "text",
    "id": "77cNugUd7C61",
    "slideshow": {
     "slide_type": "subslide"
    }
   },
   "source": [
    "### 多重條件式難題 (1)\n",
    "- 下列程式碼，不管x的值是多少，永遠都不會印出來？\n",
    "```\n",
    "if x < 2:\n",
    "    print('Below 2')\n",
    "elif x >= 2:\n",
    "    print('Two or more')\n",
    "else:\n",
    "    print('Something else')\n",
    "```"
   ]
  },
  {
   "cell_type": "code",
   "execution_count": 4,
   "metadata": {
    "colab": {
     "base_uri": "https://localhost:8080/",
     "height": 34
    },
    "colab_type": "code",
    "id": "-oYu2BoM7nrw",
    "outputId": "81878d34-7e06-4aa2-c432-cc8e0a1b001b",
    "slideshow": {
     "slide_type": "subslide"
    }
   },
   "outputs": [
    {
     "name": "stdout",
     "output_type": "stream",
     "text": [
      "Two or more\n"
     ]
    }
   ],
   "source": [
    "x = 2\n",
    "# x = ?\n",
    "if x < 2:\n",
    "    print('Below 2')\n",
    "elif x >= 2:\n",
    "    print('Two or more')\n",
    "else:\n",
    "    # this line will never be executed\n",
    "    print('Something else')"
   ]
  },
  {
   "cell_type": "markdown",
   "metadata": {
    "colab_type": "text",
    "id": "FgnaPJLZ7q6y",
    "slideshow": {
     "slide_type": "subslide"
    }
   },
   "source": [
    "### 多重條件式難題 (2)\n",
    "- 下列程式碼，不管x的值是多少，永遠都不會印出來？\n",
    "```\n",
    "if x < 2:\n",
    "    print('Below 2')\n",
    "elif x < 20: \n",
    "    print('Below 20')\n",
    "elif x < 10: \n",
    "    print('Below 10')\n",
    "else:\n",
    "    print('Something else')\n",
    "```"
   ]
  },
  {
   "cell_type": "code",
   "execution_count": 5,
   "metadata": {
    "colab": {
     "base_uri": "https://localhost:8080/",
     "height": 34
    },
    "colab_type": "code",
    "id": "f95KPh0i74mO",
    "outputId": "dbefcde9-74ed-4899-9df9-47e38219de1b",
    "slideshow": {
     "slide_type": "subslide"
    }
   },
   "outputs": [
    {
     "name": "stdout",
     "output_type": "stream",
     "text": [
      "Below 20\n"
     ]
    }
   ],
   "source": [
    "x = 6\n",
    "if x < 2:\n",
    "    print('Below 2')\n",
    "elif x < 20: # Trigger first\n",
    "    print('Below 20')\n",
    "elif x < 10: # never run\n",
    "    print('Below 10')\n",
    "else:\n",
    "    print('Something else')"
   ]
  },
  {
   "cell_type": "markdown",
   "metadata": {
    "colab_type": "text",
    "id": "VCtXtn-PMtlm",
    "slideshow": {
     "slide_type": "subslide"
    }
   },
   "source": [
    "## **練習**\n",
    "- 寫個程式，請用戶輸入得分\n",
    "  - 分數要落在0.0 ~ 1.0之間，當用戶輸入超過範圍，印出\"輸入錯誤\"\n",
    "  - 如果輸入的分數在0.0 ~ 1.0之間，照以下內容印出他得到的評比\n",
    "    - \\>= 0.9 A\n",
    "    - \\>= 0.8 B\n",
    "    - \\>= 0.7 C\n",
    "    - \\>= 0.6 D\n",
    "    - < 0.6 F\n",
    "- 最後程式寫完，可以用0.85來做測試，結果應該是B"
   ]
  },
  {
   "cell_type": "markdown",
   "metadata": {
    "colab_type": "text",
    "id": "csO5JGgzCPK-",
    "slideshow": {
     "slide_type": "slide"
    }
   },
   "source": [
    "## **try / except 結構**\n",
    "- 您用try和except包圍代碼的危險部分\n",
    "- 如果在try中的程式碼是沒問題的 - except的部分則會忽略\n",
    "- 如果在try中的程式碼出錯了 - 程式就會跳向except的部分"
   ]
  },
  {
   "cell_type": "code",
   "execution_count": 6,
   "metadata": {
    "colab": {
     "base_uri": "https://localhost:8080/",
     "height": 233
    },
    "colab_type": "code",
    "id": "9aceVwmSDPoG",
    "outputId": "4904b900-78fc-4d06-d690-dea380e7ab11",
    "slideshow": {
     "slide_type": "subslide"
    }
   },
   "outputs": [
    {
     "ename": "ValueError",
     "evalue": "ignored",
     "output_type": "error",
     "traceback": [
      "\u001b[0;31m---------------------------------------------------------------------------\u001b[0m",
      "\u001b[0;31mValueError\u001b[0m                                Traceback (most recent call last)",
      "\u001b[0;32m<ipython-input-6-a96d2ddd189b>\u001b[0m in \u001b[0;36m<module>\u001b[0;34m()\u001b[0m\n\u001b[1;32m      1\u001b[0m \u001b[0mastr\u001b[0m \u001b[0;34m=\u001b[0m \u001b[0;34m'Hello Bob'\u001b[0m\u001b[0;34m\u001b[0m\u001b[0;34m\u001b[0m\u001b[0m\n\u001b[0;32m----> 2\u001b[0;31m \u001b[0mistr\u001b[0m \u001b[0;34m=\u001b[0m \u001b[0mint\u001b[0m\u001b[0;34m(\u001b[0m\u001b[0mastr\u001b[0m\u001b[0;34m)\u001b[0m\u001b[0;34m\u001b[0m\u001b[0;34m\u001b[0m\u001b[0m\n\u001b[0m\u001b[1;32m      3\u001b[0m \u001b[0mprint\u001b[0m\u001b[0;34m(\u001b[0m\u001b[0;34m'First'\u001b[0m\u001b[0;34m,\u001b[0m \u001b[0mistr\u001b[0m\u001b[0;34m)\u001b[0m\u001b[0;34m\u001b[0m\u001b[0;34m\u001b[0m\u001b[0m\n\u001b[1;32m      4\u001b[0m \u001b[0mastr\u001b[0m \u001b[0;34m=\u001b[0m \u001b[0;34m'123'\u001b[0m\u001b[0;34m\u001b[0m\u001b[0;34m\u001b[0m\u001b[0m\n\u001b[1;32m      5\u001b[0m \u001b[0mistr\u001b[0m \u001b[0;34m=\u001b[0m \u001b[0mint\u001b[0m\u001b[0;34m(\u001b[0m\u001b[0mastr\u001b[0m\u001b[0;34m)\u001b[0m\u001b[0;34m\u001b[0m\u001b[0;34m\u001b[0m\u001b[0m\n",
      "\u001b[0;31mValueError\u001b[0m: invalid literal for int() with base 10: 'Hello Bob'"
     ]
    }
   ],
   "source": [
    "astr = 'Hello Bob'\n",
    "istr = int(astr)\n",
    "print('First', istr)\n",
    "astr = '123'\n",
    "istr = int(astr)\n",
    "print('Second', istr)"
   ]
  },
  {
   "cell_type": "markdown",
   "metadata": {
    "colab_type": "text",
    "id": "jCRgjuPHExi8",
    "slideshow": {
     "slide_type": "subslide"
    }
   },
   "source": [
    "### Traceback\n",
    "- 程式出錯，讓Python無法正常執行下去，整個程式就停止在錯誤的那一行\n",
    "![無標題繪圖(12).png](data:image/png;base64,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)"
   ]
  },
  {
   "cell_type": "markdown",
   "metadata": {
    "colab_type": "text",
    "id": "LCWebn6AGikg",
    "slideshow": {
     "slide_type": "subslide"
    }
   },
   "source": [
    "### 程式補上try/except"
   ]
  },
  {
   "cell_type": "code",
   "execution_count": 7,
   "metadata": {
    "colab": {
     "base_uri": "https://localhost:8080/",
     "height": 51
    },
    "colab_type": "code",
    "id": "7wyj0I6ZGvHE",
    "outputId": "08080b5a-7b1c-44f6-9d71-d88e1a4ea298",
    "slideshow": {
     "slide_type": "subslide"
    }
   },
   "outputs": [
    {
     "name": "stdout",
     "output_type": "stream",
     "text": [
      "First -1\n",
      "Second 123\n"
     ]
    }
   ],
   "source": [
    "astr = 'Hello Bob'\n",
    "# 當第一段轉換失敗時，程式碼就會跳到except\n",
    "# 且程式碼正常繼續執行\n",
    "try:\n",
    "    istr = int(astr)\n",
    "except:\n",
    "    istr = -1\n",
    "\n",
    "print('First', istr)\n",
    "\n",
    "astr = '123'\n",
    "# 當第二段轉換成功。程式並不會進入except\n",
    "# 程式碼正常繼續執行\n",
    "try:\n",
    "    istr = int(astr)\n",
    "except:\n",
    "    istr = -1\n",
    "\n",
    "print('Second', istr)"
   ]
  },
  {
   "cell_type": "markdown",
   "metadata": {
    "colab_type": "text",
    "id": "jscxrHEpIjjf",
    "slideshow": {
     "slide_type": "subslide"
    }
   },
   "source": [
    "### try/except示意圖\n",
    "- 放在try之中的程式碼盡量少，因為一旦出錯接下來的程式碼都不會執行了\n",
    "![無標題繪圖(14).png](data:image/png;base64,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)"
   ]
  },
  {
   "cell_type": "markdown",
   "metadata": {
    "colab_type": "text",
    "id": "xPkAVbmKIwya",
    "slideshow": {
     "slide_type": "subslide"
    }
   },
   "source": [
    "### try/except的範例\n",
    "- 結合之前講的input()"
   ]
  },
  {
   "cell_type": "code",
   "execution_count": null,
   "metadata": {
    "colab": {},
    "colab_type": "code",
    "id": "xRcrhH9jJN8x",
    "slideshow": {
     "slide_type": "fragment"
    }
   },
   "outputs": [],
   "source": [
    "# 試著輸入數字，也輸入一般文字\n",
    "rawstr = input('Enter a number:')\n",
    "try:\n",
    "    ival = int(rawstr)\n",
    "except:\n",
    "    ival = -1\n",
    "\n",
    "if ival > 0:\n",
    "    print('Nice work')\n",
    "else:\n",
    "    print('Not a number')"
   ]
  },
  {
   "cell_type": "markdown",
   "metadata": {
    "colab_type": "text",
    "id": "-0XZ5_iUJd_6",
    "slideshow": {
     "slide_type": "slide"
    }
   },
   "source": [
    "## **總結複習**\n",
    "- 比較運算子 Comparison Operators\n",
    "  - == \n",
    "  - <= \n",
    "  - \\>= \n",
    "  - \\> \n",
    "  - < \n",
    "  - !=\n",
    "- 縮排 indentation\n",
    "- 單向條件式\n",
    "- 巢狀條件式\n",
    "- 雙向條件式\n",
    "  - if: and else:\n",
    "- 多重條件式\n",
    "  - if elif else\n",
    "- try/except結構"
   ]
  },
  {
   "cell_type": "markdown",
   "metadata": {
    "colab_type": "text",
    "id": "ZsF4SrqVK_aW",
    "slideshow": {
     "slide_type": "slide"
    }
   },
   "source": [
    "## **作業**\n",
    "- 針對上一次的作業，在程式碼中加上try/except，以免用戶輸入不能轉換為數字的內容\n",
    "  - 若用戶輸入的非數字，則跳出「請輸入數字」\n",
    "- 最後以輸入兩次來做測試\n",
    "  - 第一次\n",
    "    - 工作小時：20、工作時薪：nine\n",
    "    - 輸出結果應該跳出，請輸入數字\n",
    "  - 第二次\n",
    "    - 工作小時：forty\n",
    "    - 輸出結果應該跳出，請輸入數字\n"
   ]
  }
 ],
 "metadata": {
  "celltoolbar": "Slideshow",
  "colab": {
   "name": "03.條件式.ipynb",
   "provenance": [],
   "toc_visible": true
  },
  "kernelspec": {
   "display_name": "Python 3",
   "language": "python",
   "name": "python3"
  },
  "language_info": {
   "codemirror_mode": {
    "name": "ipython",
    "version": 3
   },
   "file_extension": ".py",
   "mimetype": "text/x-python",
   "name": "python",
   "nbconvert_exporter": "python",
   "pygments_lexer": "ipython3",
   "version": "3.8.3"
  }
 },
 "nbformat": 4,
 "nbformat_minor": 1
}
