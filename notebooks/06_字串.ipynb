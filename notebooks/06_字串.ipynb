{
 "cells": [
  {
   "cell_type": "markdown",
   "metadata": {
    "id": "9VflwyATmtPt",
    "slideshow": {
     "slide_type": "slide"
    }
   },
   "source": [
    "# **Chapter 06 字串(Strings)**"
   ]
  },
  {
   "cell_type": "markdown",
   "metadata": {
    "id": "F3Y86-Qnn5H2",
    "slideshow": {
     "slide_type": "slide"
    }
   },
   "source": [
    "## **字串的資料型態**\n",
    "- 字串是一連串的字(character)\n",
    "- 字串需要用引號包住，像是\"Hello\"或'Hello'\n"
   ]
  },
  {
   "cell_type": "code",
   "execution_count": null,
   "metadata": {
    "id": "tTJPKbrloVuj",
    "slideshow": {
     "slide_type": "fragment"
    }
   },
   "outputs": [],
   "source": [
    "str1 = 'Hello'\n",
    "str2 = \"there\""
   ]
  },
  {
   "cell_type": "markdown",
   "metadata": {
    "id": "dOv4Hzp5oAY5",
    "slideshow": {
     "slide_type": "subslide"
    }
   },
   "source": [
    "- 對於字串來說，兩個字串用+號連接，表示連接兩個字串的內容"
   ]
  },
  {
   "cell_type": "code",
   "execution_count": null,
   "metadata": {
    "colab": {
     "base_uri": "https://localhost:8080/"
    },
    "id": "ijmJ38lpoY7s",
    "outputId": "fc9e957f-3771-46f7-ae00-8730f769497f",
    "slideshow": {
     "slide_type": "fragment"
    }
   },
   "outputs": [
    {
     "name": "stdout",
     "output_type": "stream",
     "text": [
      "Hellothere\n"
     ]
    }
   ],
   "source": [
    "bob = str1 + str2\n",
    "print(bob)"
   ]
  },
  {
   "cell_type": "markdown",
   "metadata": {
    "id": "bFIBa59zn9kn",
    "slideshow": {
     "slide_type": "subslide"
    }
   },
   "source": [
    "- 當字串就算是數字，它仍然是個字串"
   ]
  },
  {
   "cell_type": "code",
   "execution_count": null,
   "metadata": {
    "colab": {
     "base_uri": "https://localhost:8080/",
     "height": 185
    },
    "id": "FDawkDQ-odtc",
    "outputId": "e039b200-e007-4ed4-fe98-f2ad4cff9112",
    "slideshow": {
     "slide_type": "fragment"
    }
   },
   "outputs": [
    {
     "ename": "TypeError",
     "evalue": "ignored",
     "output_type": "error",
     "traceback": [
      "\u001b[0;31m---------------------------------------------------------------------------\u001b[0m",
      "\u001b[0;31mTypeError\u001b[0m                                 Traceback (most recent call last)",
      "\u001b[0;32m<ipython-input-3-a3c2e55be021>\u001b[0m in \u001b[0;36m<module>\u001b[0;34m()\u001b[0m\n\u001b[1;32m      1\u001b[0m \u001b[0mstr3\u001b[0m \u001b[0;34m=\u001b[0m \u001b[0;34m'123'\u001b[0m\u001b[0;34m\u001b[0m\u001b[0;34m\u001b[0m\u001b[0m\n\u001b[0;32m----> 2\u001b[0;31m \u001b[0mstr3\u001b[0m \u001b[0;34m=\u001b[0m \u001b[0mstr3\u001b[0m \u001b[0;34m+\u001b[0m \u001b[0;36m1\u001b[0m\u001b[0;34m\u001b[0m\u001b[0;34m\u001b[0m\u001b[0m\n\u001b[0m",
      "\u001b[0;31mTypeError\u001b[0m: must be str, not int"
     ]
    }
   ],
   "source": [
    "str3 = '123'\n",
    "str3 = str3 + 1"
   ]
  },
  {
   "cell_type": "markdown",
   "metadata": {
    "id": "O8-hTsxjn82n",
    "slideshow": {
     "slide_type": "subslide"
    }
   },
   "source": [
    "- 我們可以使用內建函數int()或float()將字串轉為數字"
   ]
  },
  {
   "cell_type": "code",
   "execution_count": null,
   "metadata": {
    "colab": {
     "base_uri": "https://localhost:8080/"
    },
    "id": "RgwE8XPfojfY",
    "outputId": "f111f9ec-81d8-4263-c1f4-94bee3ed635d",
    "slideshow": {
     "slide_type": "fragment"
    }
   },
   "outputs": [
    {
     "name": "stdout",
     "output_type": "stream",
     "text": [
      "124\n"
     ]
    }
   ],
   "source": [
    "x = int(str3) + 1\n",
    "print(x)"
   ]
  },
  {
   "cell_type": "markdown",
   "metadata": {
    "id": "91f9WPIso2Fc",
    "slideshow": {
     "slide_type": "slide"
    }
   },
   "source": [
    "## **字串的讀取及轉換**\n",
    "- 我們將輸入的資料以字串的型態讀入，再接著剖析或轉換資料，變成我們要使用的型態\n",
    "- 這樣的做法可以給我們對於錯誤的狀況，或是使用者輸入錯誤的內容有更多的控制權\n",
    "- 輸入的數字必須得從字串進行轉換"
   ]
  },
  {
   "cell_type": "code",
   "execution_count": null,
   "metadata": {
    "colab": {
     "base_uri": "https://localhost:8080/"
    },
    "id": "8MkbRlfxSvVS",
    "outputId": "b4ad8ab6-477b-423f-e9be-627624d1128c",
    "slideshow": {
     "slide_type": "subslide"
    }
   },
   "outputs": [
    {
     "name": "stdout",
     "output_type": "stream",
     "text": [
      "Enter:Chunk\n",
      "Chunk\n"
     ]
    }
   ],
   "source": [
    "name = input('Enter:')\n",
    "print(name)"
   ]
  },
  {
   "cell_type": "code",
   "execution_count": null,
   "metadata": {
    "colab": {
     "base_uri": "https://localhost:8080/",
     "height": 219
    },
    "id": "e6BABiO3SzkP",
    "outputId": "58ee9d48-806f-45c1-bb7d-e952196bdc2e",
    "slideshow": {
     "slide_type": "subslide"
    }
   },
   "outputs": [
    {
     "name": "stdout",
     "output_type": "stream",
     "text": [
      "Enter:100\n"
     ]
    },
    {
     "ename": "TypeError",
     "evalue": "ignored",
     "output_type": "error",
     "traceback": [
      "\u001b[0;31m---------------------------------------------------------------------------\u001b[0m",
      "\u001b[0;31mTypeError\u001b[0m                                 Traceback (most recent call last)",
      "\u001b[0;32m<ipython-input-2-77b8da56555e>\u001b[0m in \u001b[0;36m<module>\u001b[0;34m()\u001b[0m\n\u001b[1;32m      1\u001b[0m \u001b[0mapple\u001b[0m \u001b[0;34m=\u001b[0m \u001b[0minput\u001b[0m\u001b[0;34m(\u001b[0m\u001b[0;34m'Enter:'\u001b[0m\u001b[0;34m)\u001b[0m\u001b[0;34m\u001b[0m\u001b[0;34m\u001b[0m\u001b[0m\n\u001b[0;32m----> 2\u001b[0;31m \u001b[0mx\u001b[0m \u001b[0;34m=\u001b[0m \u001b[0mapple\u001b[0m \u001b[0;34m-\u001b[0m \u001b[0;36m10\u001b[0m\u001b[0;34m\u001b[0m\u001b[0;34m\u001b[0m\u001b[0m\n\u001b[0m\u001b[1;32m      3\u001b[0m \u001b[0mprint\u001b[0m\u001b[0;34m(\u001b[0m\u001b[0mx\u001b[0m\u001b[0;34m)\u001b[0m\u001b[0;34m\u001b[0m\u001b[0;34m\u001b[0m\u001b[0m\n",
      "\u001b[0;31mTypeError\u001b[0m: unsupported operand type(s) for -: 'str' and 'int'"
     ]
    }
   ],
   "source": [
    "apple = input('Enter:')\n",
    "x = apple - 10\n",
    "print(x)"
   ]
  },
  {
   "cell_type": "code",
   "execution_count": null,
   "metadata": {
    "colab": {
     "base_uri": "https://localhost:8080/"
    },
    "id": "--SG3c_fS0KV",
    "outputId": "f9b38555-4d5b-4250-e8dd-3a862c448553",
    "slideshow": {
     "slide_type": "subslide"
    }
   },
   "outputs": [
    {
     "name": "stdout",
     "output_type": "stream",
     "text": [
      "Enter:100\n",
      "90\n"
     ]
    }
   ],
   "source": [
    "apple = input('Enter:')\n",
    "x = int(apple) - 10\n",
    "print(x)"
   ]
  },
  {
   "cell_type": "markdown",
   "metadata": {
    "id": "Pa70JQmUTyCC",
    "slideshow": {
     "slide_type": "slide"
    }
   },
   "source": [
    "## **看看字串裡面**\n",
    "- 我們可以使用中括號加上索引值，取得字串中的任意一個字\n",
    "- 索引值一定要是從0開始的整數\n",
    "- 索引值可以是一個計算得出結果的表達式\n",
    "\n",
    "![無標題繪圖.png](data:image/png;base64,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)"
   ]
  },
  {
   "cell_type": "code",
   "execution_count": null,
   "metadata": {
    "colab": {
     "base_uri": "https://localhost:8080/"
    },
    "id": "JZpAsYkJVcbT",
    "outputId": "0babc9e5-7103-4ef6-9af0-1c96dff9baab",
    "slideshow": {
     "slide_type": "subslide"
    }
   },
   "outputs": [
    {
     "name": "stdout",
     "output_type": "stream",
     "text": [
      "a\n",
      "n\n"
     ]
    }
   ],
   "source": [
    "fruit = 'banana'\n",
    "letter = fruit[1]\n",
    "print(letter)\n",
    "\n",
    "x = 3\n",
    "w = fruit[x - 1]\n",
    "print(w)"
   ]
  },
  {
   "cell_type": "markdown",
   "metadata": {
    "id": "PWITT37HVd_j",
    "slideshow": {
     "slide_type": "subslide"
    }
   },
   "source": [
    "## **找尋太遠的字**\n",
    "- 如果索引值超越字串的長度，你將會收到Python的錯誤通知\n",
    "- 所以在使用索引值時要特別小心"
   ]
  },
  {
   "cell_type": "code",
   "execution_count": null,
   "metadata": {
    "colab": {
     "base_uri": "https://localhost:8080/",
     "height": 185
    },
    "id": "oFbtf13TVyxj",
    "outputId": "e9a4789c-4eac-4801-bc74-74d7d4d142b1",
    "slideshow": {
     "slide_type": "subslide"
    }
   },
   "outputs": [
    {
     "ename": "IndexError",
     "evalue": "ignored",
     "output_type": "error",
     "traceback": [
      "\u001b[0;31m---------------------------------------------------------------------------\u001b[0m",
      "\u001b[0;31mIndexError\u001b[0m                                Traceback (most recent call last)",
      "\u001b[0;32m<ipython-input-5-6acb855f1a9c>\u001b[0m in \u001b[0;36m<module>\u001b[0;34m()\u001b[0m\n\u001b[1;32m      1\u001b[0m \u001b[0mzot\u001b[0m \u001b[0;34m=\u001b[0m \u001b[0;34m'abc'\u001b[0m\u001b[0;34m\u001b[0m\u001b[0;34m\u001b[0m\u001b[0m\n\u001b[0;32m----> 2\u001b[0;31m \u001b[0mprint\u001b[0m\u001b[0;34m(\u001b[0m\u001b[0mzot\u001b[0m\u001b[0;34m[\u001b[0m\u001b[0;36m5\u001b[0m\u001b[0;34m]\u001b[0m\u001b[0;34m)\u001b[0m\u001b[0;34m\u001b[0m\u001b[0;34m\u001b[0m\u001b[0m\n\u001b[0m",
      "\u001b[0;31mIndexError\u001b[0m: string index out of range"
     ]
    }
   ],
   "source": [
    "zot = 'abc'\n",
    "print(zot[5])"
   ]
  },
  {
   "cell_type": "markdown",
   "metadata": {
    "id": "og5gIrsfV0i7",
    "slideshow": {
     "slide_type": "subslide"
    }
   },
   "source": [
    "## **字串有長度**\n",
    "- 使用內建函數len()可以取得字串的長度\n",
    "![無標題繪圖 (4).jpg](data:image/jpeg;base64,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)"
   ]
  },
  {
   "cell_type": "code",
   "execution_count": null,
   "metadata": {
    "colab": {
     "base_uri": "https://localhost:8080/"
    },
    "id": "QLID9kvcV9wM",
    "outputId": "2bb994bd-b737-4bcb-ba5c-65faf73d18c9",
    "slideshow": {
     "slide_type": "subslide"
    }
   },
   "outputs": [
    {
     "name": "stdout",
     "output_type": "stream",
     "text": [
      "6\n"
     ]
    }
   ],
   "source": [
    "fruit = 'banana'\n",
    "print(len(fruit))"
   ]
  },
  {
   "cell_type": "markdown",
   "metadata": {
    "id": "iHgC-b_OWb7Z",
    "slideshow": {
     "slide_type": "slide"
    }
   },
   "source": [
    "## **使用迴圈尋訪字串(1)**\n",
    "- 使用while以及迭代變數再加上len()函數，我們可以建立一個可以尋訪字串中每一個字的迴圈"
   ]
  },
  {
   "cell_type": "code",
   "execution_count": null,
   "metadata": {
    "colab": {
     "base_uri": "https://localhost:8080/"
    },
    "id": "884wbHnoXeL6",
    "outputId": "e19840ba-118c-4510-9e5e-c9e6c1375bcf",
    "slideshow": {
     "slide_type": "subslide"
    }
   },
   "outputs": [
    {
     "name": "stdout",
     "output_type": "stream",
     "text": [
      "0 b\n",
      "1 a\n",
      "2 n\n",
      "3 a\n",
      "4 n\n",
      "5 a\n"
     ]
    }
   ],
   "source": [
    "fruit = 'banana'\n",
    "index = 0\n",
    "while index < len(fruit):\n",
    "    letter = fruit[index]\n",
    "    print(index, letter)\n",
    "    index = index + 1"
   ]
  },
  {
   "cell_type": "markdown",
   "metadata": {
    "id": "YtKXCCXZYegY",
    "slideshow": {
     "slide_type": "subslide"
    }
   },
   "source": [
    "## **使用迴圈尋訪字串(2)**\n",
    "- 使用for迴圈，表達方式會更簡潔，因為迭代變數完全由for迴圈來控制"
   ]
  },
  {
   "cell_type": "code",
   "execution_count": null,
   "metadata": {
    "colab": {
     "base_uri": "https://localhost:8080/"
    },
    "id": "QCHjbMgjXfyB",
    "outputId": "e9e38731-20c3-46df-cb85-53b534763eb1",
    "slideshow": {
     "slide_type": "subslide"
    }
   },
   "outputs": [
    {
     "name": "stdout",
     "output_type": "stream",
     "text": [
      "0 b\n",
      "1 a\n",
      "2 n\n",
      "3 a\n",
      "4 n\n",
      "5 a\n"
     ]
    }
   ],
   "source": [
    "fruit = 'banana'\n",
    "index = 0\n",
    "for letter in fruit:\n",
    "    print(index, letter)\n",
    "    index = index + 1"
   ]
  },
  {
   "cell_type": "markdown",
   "metadata": {
    "id": "-Ko4RtIpYq-E",
    "slideshow": {
     "slide_type": "subslide"
    }
   },
   "source": [
    "## **迴圈與計數**\n",
    "- 這是一個簡單的回圈，會去尋訪字串中每一個字並且計算a出現的次數"
   ]
  },
  {
   "cell_type": "code",
   "execution_count": null,
   "metadata": {
    "colab": {
     "base_uri": "https://localhost:8080/"
    },
    "id": "LkzCmkJOY8D0",
    "outputId": "267ad980-ede3-42bb-9eff-7612f49db676",
    "slideshow": {
     "slide_type": "subslide"
    }
   },
   "outputs": [
    {
     "name": "stdout",
     "output_type": "stream",
     "text": [
      "3\n"
     ]
    }
   ],
   "source": [
    "word = 'banana'\n",
    "count = 0\n",
    "for letter in word:\n",
    "    if letter == 'a':\n",
    "        count = count + 1\n",
    "print(count)"
   ]
  },
  {
   "cell_type": "markdown",
   "metadata": {
    "id": "XQGR11sY1jH-",
    "slideshow": {
     "slide_type": "subslide"
    }
   },
   "source": [
    "## **更細的來看「in」**\n",
    "![無標題繪圖.jpg](data:image/jpeg;base64,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)"
   ]
  },
  {
   "cell_type": "markdown",
   "metadata": {
    "id": "0bDEdPr29r_M",
    "slideshow": {
     "slide_type": "subslide"
    }
   },
   "source": [
    "![無標題繪圖 (1).jpg](data:image/jpeg;base64,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)"
   ]
  },
  {
   "cell_type": "markdown",
   "metadata": {
    "id": "6IRzBZuI938p",
    "slideshow": {
     "slide_type": "slide"
    }
   },
   "source": [
    "## **更多字串的操作**"
   ]
  },
  {
   "cell_type": "markdown",
   "metadata": {
    "id": "5jPMdD0d-EZI",
    "slideshow": {
     "slide_type": "subslide"
    }
   },
   "source": [
    "### 切割字串 (Slicing String)\n",
    "- 我們可以使用冒號運算子查看字串的任何連續部分\n",
    "- 冒號運算子的第二個數字是字串的結束位置，但不包含該位置\n",
    "- 如果冒號運算子的第二個數字大於字串結束的位置，則最長就只到字串的結尾\n",
    "![無標題繪圖 (2).jpg](data:image/jpeg;base64,/9j/4AAQSkZJRgABAgAAAQABAAD/2wBDAAgGBgcGBQgHBwcJCQgKDBQNDAsLDBkSEw8UHRofHh0aHBwgJC4nICIsIxwcKDcpLDAxNDQ0Hyc5PTgyPC4zNDL/2wBDAQkJCQwLDBgNDRgyIRwhMjIyMjIyMjIyMjIyMjIyMjIyMjIyMjIyMjIyMjIyMjIyMjIyMjIyMjIyMjIyMjIyMjL/wAARCACEAtMDASIAAhEBAxEB/8QAHwAAAQUBAQEBAQEAAAAAAAAAAAECAwQFBgcICQoL/8QAtRAAAgEDAwIEAwUFBAQAAAF9AQIDAAQRBRIhMUEGE1FhByJxFDKBkaEII0KxwRVS0fAkM2JyggkKFhcYGRolJicoKSo0NTY3ODk6Q0RFRkdISUpTVFVWV1hZWmNkZWZnaGlqc3R1dnd4eXqDhIWGh4iJipKTlJWWl5iZmqKjpKWmp6ipqrKztLW2t7i5usLDxMXGx8jJytLT1NXW19jZ2uHi4+Tl5ufo6erx8vP09fb3+Pn6/8QAHwEAAwEBAQEBAQEBAQAAAAAAAAECAwQFBgcICQoL/8QAtREAAgECBAQDBAcFBAQAAQJ3AAECAxEEBSExBhJBUQdhcRMiMoEIFEKRobHBCSMzUvAVYnLRChYkNOEl8RcYGRomJygpKjU2Nzg5OkNERUZHSElKU1RVVldYWVpjZGVmZ2hpanN0dXZ3eHl6goOEhYaHiImKkpOUlZaXmJmaoqOkpaanqKmqsrO0tba3uLm6wsPExcbHyMnK0tPU1dbX2Nna4uPk5ebn6Onq8vP09fb3+Pn6/9oADAMBAAIRAxEAPwDx/wAd/wDJQ/Ev/YVuv/RrVz9dB47/AOSh+Jf+wrdf+jWrBCORkIxH0oAbRTvLk/uN+VHlyf3G/KldDsNop3lyf3G/Kjy5P7jflRdBYbRTvLk/uN+VHlyf3G/Ki6Cw2ipBBKRkROR67TTfLk/uN+VF0FmNop3lyf3G/Kjy5P7jflRdBYbRTvLk/uN+VHlyf3G/Ki6Cw2ineXJ/cb8qURSE4EbZ+lF0FmMop5ikBwY2/Kk8uT+435UXQWY2ineXJ/cb8qPLk/uN+VF0FhtFO8uT+435UeXJ/cb8qLoLDaKd5Un9xvypTDKvWJx9VNF0FmMop3lyf3G/Kjy5P7jflRdBYbRTvLk/uN+VHlyf3G/Ki6Cw2ineXJ/cb8qPKk/uN+VF0FhtFSGCYDJikA/3TTfLk/uN+VF0FmNop3lyf3G/Kjy5P7jflRdBYbRTvLk/uN+VHlyf3G/Ki6Cw2ineXJ/cb8qd5EuM+U+PXaaLoLMjop3lyf3G/Kjy5P7jflRdBYbRTvLk/uN+VHlyf3G/Ki6Cw2ineXJ/cb8qURSE4EbZ+lF0FmMoqT7PMP8AljJ/3yab5cn9xvyougsxtFO8uT+435UeXJ/cb8qLoLDaKd5cn9xvyo8uT+435UXQWG0U7y5P7jflTjBKBkxOB67TRdBZkdFO8uT+435UeXJ/cb8qLoLDaKd5cn9xvyo8uT+435UXQWG0U7y5P7jflR5cn9xvyougsNop/kyEE+W+B/smk8uT+435UXQWY2ineXJ/cb8qPLk/uN+VF0FhtFO8uT+435UeXJ/cb8qLoLDaKd5cn9xvypRDITgRuT7KaLoLMZRTzFIDgxuD7qaTy5P7jflRdBZjaKd5cn9xvyo8uT+435UXQWG0U7y5P7jflR5cn9xvyougsNop4hlbpG5+imgwyqeY3H1U0XQWYyineXJ/cb8qPLk/uN+VF0FhtFO8uT+435UeXJ/cb8qLoLDaKd5cn9xvypRFITgRtn6UXQWYyinmGVTzG4+qmk8uT+435UXQWY2ineXJ/cb8qPLk/uN+VF0FhtFO8uT+435UeXJ/cb8qLoLDaKd5cn9xvypCrL95SPqKdxWEooooAkWeZFCrK6qOwYiio6KAOg8d/wDJQ/Ev/YVuv/RrV6h4QuUs/h/Z3UufLhgkkbaMnAZicflXl/jv/kofiX/sK3X/AKNavRdE/wCSUn/rxn/9nrxM8ipUoJ9ZL8mevkzcas2v5X+g3/hZ+gf3L3/v0P8A4qj/AIWfoH9y9/79D/4qvHKKr+wsJ5/eL+2cT5fcex/8LP0D+5e/9+h/8VR/ws/QP7l7/wB+h/8AFV45RR/YWE8/vD+2cT5fcex/8LP0D+5e/wDfof8AxVH/AAs/QP7l7/36H/xVeOUUf2FhPP7w/tnE+X3H0ZpeowavpsN/bBxDMCV3jB4JH9K5c/E7QFYgpeZBx/qh/wDFVpeBv+RL03/cb/0Nq8Lk/wBa/wDvGvLwGXUa9arCd7Rdl97/AMj0cbj61GlSnC15LX8P8z2H/hZ+gf3L3/v0P/iqP+Fn6B/cvf8Av0P/AIqvHKK9T+wsJ5/eed/bOJ8vuPY/+Fn6B/cvf+/Q/wDiqP8AhZ+gf3L3/v0P/iq8coo/sLCef3h/bOJ8vuPY/wDhZ+gf3L3/AL9D/wCKrc0DxLYeI0nexEwEJAbzVA65xjk+leAV6h8Jv+PXVP8Afj/k1cWY5Vh8PhpVIXurdfM68BmVevXVOdrO/wCR12v+JrDw2tub4TETlgnlKD0xnPI9RWJ/ws/QP7l7/wB+h/8AFVlfFr/VaT/vS/8AsleY0ZdlWHxGGjVne7v18wx2Z16GIlThayt+R7H/AMLP0D+5e/8Afof/ABVH/Cz9A/uXv/fof/FV45RXb/YWE8/vOT+2cT5fcex/8LP0D+5e/wDfof8AxVH/AAs/QP7l7/36H/xVeOUUf2FhPP7w/tnE+X3Htdh8Q9F1G/gs4Eu/NncIm6MAZPrzWzrmu2nh+xW8vRKYmkEY8tcnJBPr7GvE/Cv/ACNmlf8AXyn869J+KX/Iqw/9faf+gvXl4rLqNLF06Mb2luejhsfWqYWpVla8dh3/AAs/QP7l7/36H/xVH/Cz9A/uXv8A36H/AMVXjlFep/YWE8/vPO/tnE+X3Hsf/Cz9A/uXv/fof/FUf8LP0D+5e/8Afof/ABVeOUUf2FhPP7w/tnE+X3Hsf/Cz9A/uXv8A36H/AMVTk+Jugu6oEvMsQB+6H/xVeNVLbf8AH1D/AL4/nSeR4S3X7wWc4m/T7j6G1XU4NH02a/uQ5hhALbBk8kD+tcv/AMLP0D+5e/8Afof/ABVaPj3/AJEnUv8AdT/0Na8Lrzcqy2hiqLnUvdO34I9HM8fWw1VQp2ta/wCLPY/+Fn6B/cvf+/Q/+Ko/4WfoH9y9/wC/Q/8Aiq8cor0/7Cwnn95539s4ny+49j/4WfoH9y9/79D/AOKo/wCFn6B/cvf+/Q/+Krxyij+wsJ5/eH9s4ny+49j/AOFn6B/cvf8Av0P/AIqupbUIV0k6kQ/kCDz8Y+bbt3dPXFfOde8Sf8k/f/sFn/0VXl5nl1HDez9nfV2PRy/H1sRz89tEZX/Cz9A/uXv/AH6H/wAVR/ws/QP7l7/36H/xVeOUV6n9hYTz+887+2cT5fcex/8ACz9A/uXv/fof/FUf8LP0D+5e/wDfof8AxVeOUUf2FhPP7w/tnE+X3Hsf/Cz9A/uXv/fof/FVYsPiHouo38FnAl35s7hE3RgDJ9ea8UrY8K/8jZpX/Xyn86zq5JhYU5SV9E+pdLN8TKcYu2rXQ95urlLOznupc+XDG0jbRk4AycflXI/8LP0D+5e/9+h/8VXSa/8A8i5qf/XpL/6Aa+eK83Kcvo4qEnUvoehmeOq4aUVTtqex/wDCz9A/uXv/AH6H/wAVR/ws/QP7l7/36H/xVeOUV639hYTz+88z+2cT5fcex/8ACz9A/uXv/fof/FUf8LP0D+5e/wDfof8AxVeOUUf2FhPP7w/tnE+X3HsqfE3QXdUCXmWIA/dD/wCKrptV1ODR9Nmv7kOYYQC2wZPJA/rXzzbf8fUP++P517f49/5EnUv91P8A0Na8vH5dRoV6UIXtJ2f3r/M9HBY+tWo1ZyteK0+5md/ws/QP7l7/AN+h/wDFUf8ACz9A/uXv/fof/FV45RXqf2FhPP7zzv7ZxPl9x7H/AMLP0D+5e/8Afof/ABVH/Cz9A/uXv/fof/FV45RR/YWE8/vD+2cT5fcex/8ACz9A/uXv/fof/FUf8LP0D+5e/wDfof8AxVeOUUf2FhPP7w/tnE+X3H0lbTpdWsNxHnZKiuueuCMiuXvfiJolhfT2cyXfmwSNG+2MEZBwcc1v6L/yAdO/69o//QRXhfif/katW/6+5f8A0I14uWYGlia04VL2X+Z6+YYyph6UJw3Z6d/ws/QP7l7/AN+h/wDFUf8ACz9A/uXv/fof/FV45RXtf2FhPP7zyP7ZxPl9x7H/AMLP0D+5e/8Afof/ABVH/Cz9A/uXv/fof/FV45RR/YWE8/vD+2cT5fcex/8ACz9A/uXv/fof/FVq6D4v03xFdSW9ks4eNN7eYgAxkD1PrXg9d78Kf+Q9e/8AXt/7MtcuNyjDUcPKpC915nTg80r1a8acrWfkd1rvjDTPDt5Ha3q3BkePzB5aAjGSPUelZf8Aws/QP7l7/wB+h/8AFVy/xV/5GO0/69B/6G1cJRgsow1bDxqTvd+YsXmlelXlTjay8j2P/hZ+gf3L3/v0P/iqP+Fn6B/cvf8Av0P/AIqvHKK6v7Cwnn95z/2zifL7j2P/AIWfoH9y9/79D/4qj/hZ+gf3L3/v0P8A4qvHKKP7Cwnn94f2zifL7j3jQfF+m+IrqS3slnDxpvbzEAGMgep9aTXfGGmeHbyO1vVuDI8fmDy0BGMkeo9K4X4U/wDIevf+vb/2Zab8Vf8AkY7T/r0H/obV5f8AZ1H+0Pq+vLa/4Ho/X631L2+nNc6j/hZ+gf3L3/v0P/iqP+Fn6B/cvf8Av0P/AIqvHKK9T+wsJ5/eed/bOJ8vuPY/+Fn6B/cvf+/Q/wDiqP8AhZ+gf3L3/v0P/iq8coo/sLCef3h/bOJ8vuPY/wDhZ+gf3L3/AL9D/wCKq/o/jnSdb1KOwtFuRM4JHmRgDgZPevDa6r4df8jpa/7kn/oBrDFZNhqVCc43uk3ubYfNsRUrRhK1m0tj1TX/ABNYeG1tzfCYicsE8pQemM55HqKxP+Fn6B/cvf8Av0P/AIqsr4tf6rSf96X/ANkrzGscuyrD4jDRqzvd36+Zrjszr0MRKnC1lb8j2P8A4WfoH9y9/wC/Q/8AiqP+Fn6B/cvf+/Q/+Krxyiu3+wsJ5/ecn9s4ny+49j/4WfoH9y9/79D/AOKo/wCFn6B/cvf+/Q/+Krxyij+wsJ5/eH9s4ny+49rsPiHouo38FnAl35s7hE3RgDJ9eawvi1/qtJ/3pf8A2SuJ8K/8jZpX/Xyn867b4tf6rSf96X/2SuSODpYXMaUafVP8mdMsXUxOAqSqdGvzR5jRRRX0h4AUUUUAdB47/wCSh+Jf+wrdf+jWr0XRP+SUn/rxn/8AZ6868d/8lD8S/wDYVuv/AEa1ei6J/wAkpP8A14z/APs9eNnX8On/AIl+p62UfxJ/4X+h41RRRXsnknQeIvBWv+FLayuNZsfs8N6C0DiVHDYAJ+6Tjhh1qt4c8M6v4s1T+zdFtftN0IzKU3qgCjGSSxA7j869u+Ip/wCEh8P63oR+a60ixs9YtR32bNkw+gBB+prD+DONAt7PUT8t1r2qJp8GeogjG+Vh7Fti/hQB45eWk1hez2dwuyeCRopFyDhlOCMj3FQ1seLP+Ry1z/sIXH/oxqx6APdvA3/Il6b/ALjf+htXhcn+tf8A3jXungb/AJEvTf8Acb/0Nq8Lk/1r/wC8a8HKP95xHr+rPazT/d6Hp+iG0UV1ngXwtZ+IbnUbzVrmW30fSbU3V48IBkYdkTPG4n19K948U5OivStN0Twd46iv9P8AD2nahpGs29u9xarPdCeO6CDJRuAVYjpjjrXmtABXqHwm/wCPXVP9+P8Ak1eX16h8Jv8Aj11T/fj/AJNXl5z/ALlP5fmj0sp/3uPz/Jjfi1/qtJ/3pf8A2SvMa9O+LX+q0n/el/8AZK8xoyb/AHKHz/NizX/e5/L8kFFFereI9E+H/gq/sbe/0/VNUlvLSG5eOO6ES26svODjLMSGOOABivUPOPKaK6r4h+GLTwp4qex0+eSaxmgjubdpcbwjjIDY7jmuVoA2PCv/ACNmlf8AXyn869J+KX/Iqw/9faf+gvXm3hX/AJGzSv8Ar5T+dek/FL/kVYf+vtP/AEF68HH/APIxof11PawX+4Vjx6iiivePFLOn6dearex2Wn2stzcyHCRRKWY+v/66rV6d8CZLFPiEiXFvLJctBL5EiybVTEbbsjHORwOmK8+1aXTp9Tmk0q1mtbE7fLhnl8x1+UZy2BnnJ6d6AKVS23/H1D/vj+dRVLbf8fUP++P50pbDjue3+Pf+RJ1L/dT/ANDWvC6908e/8iTqX+6n/oa14XXh8P8A+7S/xfoj2M8/3iPp+rCiiuv1jw5p6/DrQ/E+l+bukmkstRR33BJxypHoGXJx9K908Y5Ciut8W+HbDw3oXhyL96dZvrQ3t4Gf5Y0c/ulA7HaDnNclQAV7xJ/yT9/+wWf/AEVXg9e8Sf8AJP3/AOwWf/RVeDnm9L1/yPayf/l76Hg9FFFe8eKFFFFABWx4V/5GzSv+vlP51j1seFf+Rs0r/r5T+dY4j+DP0f5GtD+LH1X5nt+v/wDIuan/ANekv/oBr54r6H1//kXNT/69Jf8A0A188V4fD38Ofqj2M9+OHox0cbSyJGgyzkKB7mu/PwT8eq21tIhB9DfQf/F1w1h/yEbb/rqn8xXtHxS+FvjLxH8R9V1bSdG+0WM/k+XL9qhTdthRTwzgjkEdK+iPCPJ/EPhbW/Cl4lprmnS2crjcm4hlcd9rKSD+BrHr1Xx+raF8MvDvhTVb2G6162uZJ3jjlEptYSCBGWHrkcf7PoBXlVAEtt/x9Q/74/nXt/j3/kSdS/3U/wDQ1rxC2/4+of8AfH869v8AHv8AyJOpf7qf+hrXg5t/vWH9f1R7WWf7tX9P0Z4XRRRXvHihRXX/APCN6fefCz/hIrHzf7QsL77PqCFsr5bjMbgducL7mm6x4dsNG+H2hahP5v8AbOrSyTqu75Y7ZflGV9WbkH0oA5KiiigD6J0X/kA6d/17R/8AoIrwvxP/AMjVq3/X3L/6Ea900X/kA6d/17R/+givC/E//I1at/19y/8AoRr5fI/95q/11Pos4/3en/XQyqKKK+oPnS1Pp17a2dreXFrLFb3W7yJHXAlCkBivqATjNVa9c+I91oD/AA38Hi10y8ieS1lNiXugwgUSLuDjaN5PY8YryOgArvfhT/yHr3/r2/8AZlrgq734U/8AIevf+vb/ANmWuDNP9zqeh25d/vUPUb8Vf+RjtP8Ar0H/AKG1cJXd/FX/AJGO0/69B/6G1cJRln+6U/QMx/3qfqS2ttLeXcNrAu6aaRY0XOMsTgDJ9zVjVtKvND1W50zUIhFd2z7JUDBtp+o4NT+Gv+Rq0j/r9h/9DFer+ME8AN8Vb7S9VsdUu7u9vFS4vYrkRpbO+AAiYO4DIySeueK7ziPFKK2PFeiDw34r1PRhKZls7holkIwWXsT74xWPQB3vwp/5D17/ANe3/sy034q/8jHaf9eg/wDQ2p3wp/5D17/17f8Asy034q/8jHaf9eg/9DavB/5m/wAv0Pa/5lfz/U4SiitTw5oc/iTxHYaNbMElvJljDsMhB3Y/QZP4V7x4pl0V6a1p8M08RnwwbPVyBN9lOtfalz5mdu7ytuNm73ziuH8S6DceGPEl/ot0weW0lMe9RgOOqtjtkEH8aAMquq+HX/I6Wv8AuSf+gGuVrqvh1/yOlr/uSf8AoBrkx/8AutT0f5HTgv8AeKfqvzOk+LX+q0n/AHpf/ZK8xr074tf6rSf96X/2SvMa5sm/3KHz/NnRmv8Avc/l+SCiivV/Emh/D/wTfafBf6fqupzXlnDcvFHdCJYFYckHGWYkE44AGK9Q848oorqviF4Zs/Cvik2emzyzWE9vHdW7S43hHGQGx361ytAGx4V/5GzSv+vlP5123xa/1Wk/70v/ALJXE+Ff+Rs0r/r5T+ddt8Wv9VpP+9L/AOyV42J/5GdH0f5M9bD/APIvq+q/NHmNFFFeyeSFFFFAHQeO/wDkofiX/sK3X/o1q9F0T/klJ/68Z/8A2evOvHf/ACUPxL/2Fbr/ANGtXouif8kpP/XjP/7PXjZ1/Dp/4l+p62UfxJ/4X+h41RRRXsnkns2p+LNMs/jTpV8t7a3OlT6fBY3rxzK0flvHscMQcfKSCfpUP9r6NpvxX8IaPY6rayaFoCpEL3zl8l5Hy8sm7O3lmA6/w14/RQBq+J5o7jxZrM0MiSRSX07o6MCrKXJBBHUGsqiigD3bwN/yJem/7jf+htXhcn+tf/eNe6eBv+RL03/cb/0Nq8Lk/wBa/wDvGvByj/ecR6/qz2s0/wB3oen6IbXdfDjVtMij1/w9q94ljba3ZeQl3IPkhlU5Qt6LknJ+n1rhaK948U9Y8K6VbfDS8vPEmsa3pM88NrLFp9pYXazvcSuu0Nhfupgnk15PRRQAV6h8Jv8Aj11T/fj/AJNXl9eofCb/AI9dU/34/wCTV5ec/wC5T+X5o9LKf97j8/yY34tf6rSf96X/ANkrzGvTvi1/qtJ/3pf/AGSvMaMm/wByh8/zYs1/3ufy/JBXd/FjULLUfE1hLY3dvdRrpVtGzwSBwGCnKkg9R6VwlFeoecd38WNQstR8TWEtjd291GulW0bPBIHAYKcqSD1HpXCUUUAbHhX/AJGzSv8Ar5T+dek/FL/kVYf+vtP/AEF6828K/wDI2aV/18p/OvSfil/yKsP/AF9p/wCgvXg4/wD5GND+up7WC/3CsePUUUV7x4p3Pwh1Ox0n4kafcajdRWtsyTRGaVtqIWjYDJPQZwM+9cvrujyaDq82nS3dndvFtzNZzCWJsgHhvxwfes6igAqW2/4+of8AfH86iqW2/wCPqH/fH86Uthx3Pb/Hv/Ik6l/up/6GteF17p49/wCRJ1L/AHU/9DWvC68Ph/8A3aX+L9Eexnn+8R9P1YV6h8IBZ6+dW8Faq2LHUUjukY/wSQsGOPTKbgT7V5fXX6T4zstC8KXNhpugxw63dwyW0+rm5ZmMLtkhYzwpxhcj0r3Txij448Qf8JP4z1PVV/1EsxW3XoFiX5UGO3ygVz1FFABXvEn/ACT9/wDsFn/0VXg9e8Sf8k/f/sFn/wBFV4Oeb0vX/I9rJ/8Al76Hg9FFFe8eKFFFFABWx4V/5GzSv+vlP51j1seFf+Rs0r/r5T+dY4j+DP0f5GtD+LH1X5nt+v8A/Iuan/16S/8AoBr54r6H1/8A5FzU/wDr0l/9ANfPFeHw9/Dn6o9jPfjh6MnsmVL+3ZiAolUkk8AZFdn8X9Tt9S+KGs3On30V1ZyeTslt5Q8bYgjBwQcHkEfUVwtFfRHhBRRRQBLbf8fUP++P517f49/5EnUv91P/AENa8Qtv+PqH/fH869v8e/8AIk6l/up/6GteDm3+9Yf1/VHtZZ/u1f0/RnhdFFFe8eKegfCe4ivNcv8AwrduVs/ENm9oTjISUAtG+PUEHH1rP+JusQar41uYbLjTtMRdOs1B4EUQ28exbcfxpPC3jOy8KaZcSWugRSeIW3rbas9w3+jo67TiL7pYfNhvf8+QJycnrQAUUUUAfROi/wDIB07/AK9o/wD0EV4X4n/5GrVv+vuX/wBCNe6aL/yAdO/69o//AEEV4X4n/wCRq1b/AK+5f/QjXy+R/wC81f66n0Wcf7vT/roZVFFFfUHzp6V4nitda+E/ha9s9V04yaPBLDdWb3AW43PKANqdT6/TmvNaKKACu9+FP/Ievf8Ar2/9mWuCrvfhT/yHr3/r2/8AZlrgzT/c6noduXf71D1G/FX/AJGO0/69B/6G1cJXd/FX/kY7T/r0H/obVwlGWf7pT9AzH/ep+po+H5Y4fEmlyyuscaXkTO7nAUBxkk9hXT+ML+zufjHe31vdwS2bamjrcRyBoyuV5DDjHvXD0V3nEdV8Sbu2v/iNrt1Z3EVxby3JaOWFw6OMDkEcGuVoooA734U/8h69/wCvb/2Zab8Vf+RjtP8Ar0H/AKG1O+FP/Ievf+vb/wBmWm/FX/kY7T/r0H/obV4P/M3+X6Htf8yv5/qcJW/4I16Pwx410nWZkZobWcNKFGTsIKtj3wTWBRXvHinqMngLTJPFrayPFmh/8Iy1z9q+0G7HmiPdu8vyvvb+2Mf4VyHjvxBF4p8catrNurLBczfugwwdigKpI7EhQa52igArqvh1/wAjpa/7kn/oBrla6r4df8jpa/7kn/oBrkx/+61PR/kdOC/3in6r8zpPi1/qtJ/3pf8A2SvMa9O+LX+q0n/el/8AZK8xrmyb/cofP82dGa/73P5fkgru/ixqFlqPiawlsbu3uo10q2jZ4JA4DBTlSQeo9K4SivUPOO4+KN/Z6hr+lyWV3BcxppFrGzQyBwrheVJHQjuK4eiigDY8K/8AI2aV/wBfKfzrtvi1/qtJ/wB6X/2SuJ8K/wDI2aV/18p/Ou2+LX+q0n/el/8AZK8bE/8AIzo+j/JnrYf/AJF9X1X5o8xooor2TyQooooA6Dx3/wAlD8S/9hW6/wDRrV6Nogz8KSB/z4z/APs9ec+O/wDkofiX/sK3X/o1q63w14+0fSfDtnYXK3RmhUhtkYI5Yn1968nOKVSpSh7ON2pJ/meplVSnCpL2jsmrfkeaeXJ/cb8qPLk/uN+Vew/8LP0D+5e/9+h/8VR/ws/QP7l7/wB+h/8AFVH9o4v/AKB39/8AwCvqGF/5/r7v+CePeXJ/cb8qPLk/uN+Vew/8LP0D+5e/9+h/8VR/ws/QP7l7/wB+h/8AFUf2ji/+gd/f/wAAPqGF/wCf6+7/AIJ495cn9xvyo8uT+435V7D/AMLP0D+5e/8Afof/ABVH/Cz9A/uXv/fof/FUf2ji/wDoHf3/APAD6hhf+f6+7/gmn4HBHgzTQRg7G/8AQzXh0kcnmv8AI33j2r2AfE3w+VJP2sH0MX/16b/ws/QP7l7/AN+h/wDFVwYSeLw9SpU9i3zu/pv5eZ24qGFr06cPbJcqt67efkePeXJ/cb8qPLk/uN+Vew/8LP0D+5e/9+h/8VR/ws/QP7l7/wB+h/8AFV3/ANo4v/oHf3/8A4vqGF/5/r7v+CePeXJ/cb8qPLk/uN+Vew/8LP0D+5e/9+h/8VR/ws/QP7l7/wB+h/8AFUf2ji/+gd/f/wAAPqGF/wCf6+7/AIJ495cn9xvyr0/4Tqy2uqbgR88fUezVpf8ACz9A/uXv/fof/FUo+J+gE423g9zEP8a5cZiMXiaLpewav5+fodOEoYXD1VU9snb+u5lfFlWaLSdqk/NL0H+5XmXlyf3G/KvYj8T9ABI23h9/KH+NJ/ws/QP7l7/36H/xVGDxGLw1FUvYN28/O/YMXQwuIrOr7ZK/9dzx7y5P7jflR5cn9xvyr2H/AIWfoH9y9/79D/4qj/hZ+gf3L3/v0P8A4qur+0cX/wBA7+//AIBzfUML/wA/193/AATx7y5P7jflR5cn9xvyr2H/AIWfoH9y9/79D/4qj/hZ+gf3L3/v0P8A4qj+0cX/ANA7+/8A4AfUML/z/X3f8E828KxuPFelEowH2lO3vXpHxRUt4WhABJ+1p0/3Wpf+Fn6B/cvP+/Q/+KpzfE3w+uMfa2+kQ/qa4K9TF1cRCv7Frl6f0jtowwtKhOj7ZPm6/wBM8c8uT+435UeXJ/cb8q9h/wCFn6B/cvf+/Q/+Ko/4WfoH9y9/79D/AOKrv/tHF/8AQO/v/wCAcX1DC/8AP9fd/wAE8e8uT+435UeXJ/cb8q9h/wCFn6B/cvf+/Q/+Ko/4WfoH9y9/79D/AOKo/tHF/wDQO/v/AOAH1DC/8/193/BPHvLk/uN+VS20b/aofkb747e9euf8LP0D+5e/9+h/8VR/ws/QP7l5/wB+h/8AFUnmGLa/3d/f/wAAawOFT/jr7v8Agmj48BPgrUQASdqdP99a8N8uT+435V7Ifib4eAyDdH2EX/16Z/ws/QP7l7/36H/xVcOX1MXhKbp+wbu79u3kdmOp4bFVFP2yVlbv+p495cn9xvyo8uT+435V7D/ws/QP7l7/AN+h/wDFUf8ACz9A/uXv/fof/FV3/wBo4v8A6B39/wDwDi+oYX/n+vu/4J495cn9xvyo8uT+435V7D/ws/QP7l7/AN+h/wDFUf8ACz9A/uXv/fof/FUf2ji/+gd/f/wA+oYX/n+vu/4J495cn9xvyr3eQH/hAHGOf7LPH/bKsn/hZ+gf3L3/AL9D/wCKp3/CzfD+3P8Apef7vlc/zrgx08XiuT9y1yu/f9DtwcMLhub98ndW/rU8c8uT+435UeXJ/cb8q9h/4WfoH9y9/wC/Q/8AiqP+Fn6B/cvf+/Q/+Krv/tHF/wDQO/v/AOAcX1DC/wDP9fd/wTx7y5P7jflR5cn9xvyr2H/hZ+gf3L3/AL9D/wCKo/4WfoH9y9/79D/4qj+0cX/0Dv7/APgB9Qwv/P8AX3f8E8e8uT+435VseFY3HivSiUYD7Snb3r0n/hZ+gf3L3/v0P/iqUfE/QCcbbwe5iH+NRUx2LnBx+rvVd/8AgF08HhYTUvbrTy/4J0evDPh3UwP+fSX/ANANfPXlyf3G/KvZD8TPDwH3ro+3k/8A16Z/ws/QP7l7/wB+h/8AFVw5dLF4OMo+xbv8v0OzHxw2Kkn7VK3z/U8e8uT+435UeXJ/cb8q9h/4WfoH9y9/79D/AOKo/wCFn6B/cvf+/Q/+Kr0f7Rxf/QO/v/4BwfUML/z/AF93/BPHvLk/uN+VHlyf3G/KvYf+Fn6B/cvf+/Q/+Ko/4WfoH9y9/wC/Q/8AiqP7Rxf/AEDv7/8AgB9Qwv8Az/X3f8E8jto3+1RfI33x2969t8eAnwVqIAJO1On++tZ3/Cz9A/uXv/fof/FU4/E3w+FBH2sn0EX/ANeuDF1MXiKtOp7Frkd/Xby8jtw0MNQp1Ie2T5lb038/M8c8uT+435UeXJ/cb8q9h/4WfoH9y9/79D/4qj/hZ+gf3L3/AL9D/wCKrv8A7Rxf/QO/v/4BxfUML/z/AF93/BPHvLk/uN+VHlyf3G/KvYf+Fn6B/cvf+/Q/+Ko/4WfoH9y9/wC/Q/8AiqP7Rxf/AEDv7/8AgB9Qwv8Az/X3f8E8e8uT+435UeXJ/cb8q9h/4WfoH9y9/wC/Q/8AiqP+Fn6B/cvf+/Q/+Ko/tHF/9A7+/wD4AfUML/z/AF93/BOm0XjQtP8A+vaP/wBBFeG+Jo3PinVSEbH2uXt/tGvTR8TvD5BOLwEdvKHP60n/AAs/QP7l7/36H/xVeXgVi8LUlU9i3f5Ho4x4XE04w9qlY8e8uT+435UeXJ/cb8q9h/4WfoH9y9/79D/4qj/hZ+gf3L3/AL9D/wCKr1P7Rxf/AEDv7/8AgHnfUML/AM/193/BPHvLk/uN+VHlyf3G/KvYf+Fn6B/cvf8Av0P/AIqj/hZ+gf3L3/v0P/iqP7Rxf/QO/v8A+AH1DC/8/wBfd/wTx7y5P7jflXe/CpGXXb3cpH+jdx/tLXSf8LP0D+5e/wDfof8AxVKvxO8Pk4IvB7mIf41z4rFYuvRlS9g1fz/4BvhsNhaNWNT2ydv67nL/ABURm8RWhVSf9EHQf7bVwvlyf3G/KvYm+J3h8HAW8PuIh/jSf8LP0D+5e/8Afof/ABVGFxWLoUY0vYN28/8AgBiMNha1WVT2yV/L/gnj3lyf3G/Kjy5P7jflXsP/AAs/QP7l7/36H/xVH/Cz9A/uXv8A36H/AMVXR/aOL/6B39//AADD6hhf+f6+7/gnj3lyf3G/Kjy5P7jflXsP/Cz9A/uXv/fof/FUf8LP0D+5e/8Afof/ABVH9o4v/oHf3/8AAD6hhf8An+vu/wCCc38KkZddvdykf6N3H+0tM+KiM3iK0KqT/og6D/baupX4neH2PIu1+sQ/xpG+J3h9TwLtvcRD/GvP9pi/rn1n2L2tb/g2O3kw31X6v7Zb3v8A8C5475cn9xvyo8uT+435V7D/AMLP0D+5e/8Afof/ABVH/Cz9A/uXv/fof/FV6H9o4v8A6B39/wDwDi+oYX/n+vu/4J495cn9xvyo8uT+435V7D/ws/QP7l7/AN+h/wDFUf8ACz9A/uXv/fof/FUf2ji/+gd/f/wA+oYX/n+vu/4J495cn9xvyrqvh2jr4ztSVYDZJ1H+wa7f/hZ+gf3L3/v0P/iqUfE/QCcbbwe5iH+NY18Zi6tKVP6u1dNb/wDANaOEwtKpGft07O+3/BMr4sqzRaTtUn5peg/3K8y8uT+435V7E3xO8PqeBdt7iIf40n/Cz9A/uXv/AH6H/wAVWeDxGLw1FUvYN2/zv2NMXQwuIrOr7ZK/+XqePeXJ/cb8qPLk/uN+Vew/8LP0D+5e/wDfof8AxVH/AAs/QP7l7/36H/xVdX9o4v8A6B39/wDwDm+oYX/n+vu/4J495cn9xvyo8uT+435V7D/ws/QP7l7/AN+h/wDFUf8ACz9A/uXv/fof/FUf2ji/+gd/f/wA+oYX/n+vu/4J5t4VjceK9KJRgPtKdveu0+LX+q0n/el/9krV/wCFn6B/cvf+/Q/+Krj/AB34p0/xIlgLFZgYC5fzUA67cY5Poawg8RiMbTqzpOKV/wAmbTVChg6lOFRSbt+aOMooor6A8MKKKKAOg8d/8lD8S/8AYVuv/RrVz9dB47/5KH4l/wCwrdf+jWrn6ACiiigAoq9pOjalr18tlpVjPeXLDPlwoWIHqfQe5qbXPDes+GrlLfWdNuLKRxuQSpgOO+D0P4UAZdFFFABRRRQAUUUUAFFXJdJv4NKt9UltZEsbiRo4ZmGFdl+8B64zVOgAooooAKKKKACiiui0nwH4q12w+3aZoV7cWpztlWPCt/u5+9+GaAOdoqW5tp7K5ktrqCSCeJiskUqlWQjqCDyDUVABRRRQAUUUUAFFbOheE9f8TeZ/Yuk3N6sXDvGnyqfQseM+1UdS0y+0e+kstStJrS6j+9FMhVh+B7UAVKKKKACiiigAoop0cbzSpFEjPI5CqqjJYnoAKAG0Vd1bSb/Q9Tm03U7Z7a8h2+ZE+MrlQw6exB/GqVABRRRQAUUUUAFFaejeHdY8RTSw6Pp1xeyRKGkWFNxUdMmrOseDfEfh+zW71bRruzt2cRiSaPaCxBIH1wD+VAGHRRRQAUUUUAFFFbuh+DPEniSB59H0a7u4UOGlRPlz6ZPBPtQBhUVPe2V1p15LZ3tvLb3MTbZIpUKsp9CDUFABRRRQAUUUUAFFdDpngXxTrOnxX+m6Fe3VpLny5oo8q2CQcH6gj8Kh1jwf4i8P2iXer6Pd2Vu8gjWSaPaCxBIH1wD+VAGJRRRQAUUUUAFFFOjjeWRY40Z5HIVVUZLE9ABQA2iui1LwF4r0fTP7R1DQb63tAAWlePhB/tDqv44rnaACiiigAooooAKKK6OLwB4tm0garH4e1BrIrvEghPK/3gvUjvnFAHOUUUUAFFFFABRRV3S9Jv8AW75bLTbWS5uWVmEcY5woyT7AAUAUqKdHG8sixxozyOQqqoyWJ6ACt7VfA3inQ9OGoanoV7bWhxmWSPhc9N3938cUAc/RRRQAUUUUAFFABJwBk1c1PSr7Rb5rHUrWS2ukVWaKQYYBlDDP4EUAU6KuwaTf3Ol3Wpw2sj2NoyLPOB8qFjhRn1NUqACiiigAooooAKKKKAOg8d/8lD8S/wDYVuv/AEa1c/XQeO/+Sh+Jf+wrdf8Ao1q5+gAooooA9G0aZ9F+BmsalZu0N5qOsR6dJKhw3lLF5m0HqASTn1FP0iWbXfgf4lgvZHm/sS7trizLnJj8xtjKCegxk49ab4QRPFHw31bwZDcQRaqt+mpWMU0gjFwdmx0DHjdgZAP+NT39jJ4C+FuqaHqkkKa3rt1CWs45VkaGCI7gzlSQMtwB/wDXwAeY0UUUAFFFFABWjoVzplnrNvcaxYPf2Ee4yWqSmMynado3DoN2M+2azqKAPWfiHrj+IvhT4T1BrS2s0a7uo4ra2TbHEikKqgfQCvJq9A1+aJvgp4QiWRDIl7dlkDDIy3GRXn9ABRRRQAUUUUAFdlqPiLxB498SaZbaXBLBLFHHbWNlZyMEi2jqvPHTJPYDrgVx6I0kiogyzEAD1Ne/HwXq/hLw1Hpng6TTDql5D/xMtYe9jWQZ6xQ5OVX/AGup+vQA4D4yXltdeN44op47m7tLGG2v7iPpNcoDvbPfqo/DHavPq2PEnhrUPC2opZakbczyRCYGCdZRtJI5K98qeKx6ACiiigAooooA67T9X1rxJo+l+DbOWysbS2eWbe03kLKx+bdK7NgkYwOnXHpXQfF6KextvCmlXpkur6y04rNqRUmO5yQVVHP3wg4z/tVm2PgGLxP4S0++8KT/AGvWEZ01PT57iNHQ5+R4w23KEdeTyfY1f8dvFonw98OeELq8gu9Ys5pbm4EMgkForZxFuHGeckDpj0xkA80ooooAKKKKACvQPCNvD4R0ZPGeoRq99M5g0O2kGd0g4a4I/upnj1b6Zrz+vSZ/idpmqGwTUfBGlXDWkMdtCzTSDYi9AADgetAFb42/8le13/t3/wDSeOvP69O+OWrWF98QL22tbC1SWAxmS+ikLNc5hjwG5x8vTj0rzGgAooooAKKKKAPVvh5bwxfDLxTctr1to0l5c29t9rlkYPGiHe2wL8xJ3YwPf0rG8XeG9Vg8OQ61beKT4j0FpvLaZZZP3MuOA8bnKnB4Pv2yM1vDfg2y8WeFrn+y7z/iqbe4BFhNOkaT25HWPcBlwevzdB7ity+tG8CfCnVtA1eaD+2tbuoWFjFMsjW0UbBt7lSQCSMY9PxwAeX0UUUAFFFFABXuvjnwtNFJoukT+J9P8PaPYWcUdnHPKwaebAaSXavT5jgsccg+9eFV694t0PUfik2keI/DklvesbCK2vbZrlI5LWVM7twYj5TnII96AOT+Jg8Qp4mhh8Si2e8hs4o47q25W7iGdsu7+Innnjp04rja774oX9m1xoGh2l5FevommR2dxdQtuR5Ryyqe6jgfnXA0AFFFFABRRRQB0HhhvEGravp+gaTqd7C1zKI40jndUTJyzYB4A5Y/jXQfFHxML3UYfDGn3U02j6L+5R5JCzXE44eViepzkD26daf8KJ4tJm8SeIXkRbjTNIma03MAfOf5VI/UfjXnhJJJJyT1JoAKKKKACiiigArrvhffQ6d8StDup7Sa7jWcjyoYzI+SjKGCjk7SQ3HpXI13Pwm1iw0XxwkmoXK2kdxbS20d23S3kdcK5Pb0z2z6UAeiaD4b1nwp4k8T63q+sw6xZR2s4urO1nM811uyAJIhygGeS3T6ZrwKvYPBPgvWvA3jKHxJr93aWOj2IkkkvBeI4uVKkBUVSWYtkcY/XivJ76aK51C5nhiEUUkrOkY/gUkkD8KAK9FFFABRRRQBr+FFtH8YaIt/sNmb+AT+Z93y/MXdn2xmu/8AFMvjP/heUvlG/F4uoAWIXdt8jd8mO2zb97t97PevLrZYGu4VuXZLcuoldBllXPJA7nFe2vo/jYyJp48YiXwH8pOqPfRBTbYyVJzvzjK7enbpQBwnxe0y30n4pa3bWsaxwtIkwVRgAvGrt/48xriK6X4geIYvFXjvVtZgz9nnmAhyMEoihFOO2QoP41zVABRRRQAV7V8H/E1gmqQaDpWjQ2zzWMz399Ixea4dUJAX+4gPYdcCvFa9A+DM0UHxAR5pEjT7FcDc7AD/AFZ9aAF+DsMQ8Y3epSIrtpWmXN9ErDI3ooAP4bs/hVr4S6ve6p8RhpmpXU91aa5FPBfJK5YS5jZskHvkdfc1kfC7WrHR/GPl6nMILDUbWWwnmbpGJBgMfbcFz6da6vwh4Rvfhv4il8WeI5LOKw02GVrRo7lH+3SMjKixgEnndnkDH54APJJ4vJuJIs52OVz64OKjp0jtLI0jnLMSxPuabQAUUUUAdN4T8S6f4XFxfHRYr/WAymxmuWJitjzl9n8TZxjPTGa6P40NAvxm1FrlGe3BtjKqHDMvlJkA+uK82r0H42TRT/FbVpIZEkQpBhkYEH9yncUAdJdeJLfXvgp4mg07SLfStMsru1S2toiWbBcEs7nlmOBz7V41XoGgTRL8FPF8TSIJHvbQqhYZOG5wK8/oAKKKKACiiigAooooA6Dx3/yUPxL/ANhW6/8ARrVz9dB47/5KH4l/7Ct1/wCjWrn6ACiiigAooooAKKKKACiiigAooooAKKKKACiiigAooooAKKKKACiiigAooooAKKKKACiiigAooooAKKKKACiiigAooooAKKKKACiiigAooooAKKKKACiiigAooooAKKKKACiiigAooooAKKKKACiiigAooooAKKKKACiiigAooooAKKKKACiiigAooooAKKKKACiiigAooooAKKKKACiiigAooooAKKKKACiiigAooooAKKKKAOh8ejHxE8S/9hS5/wDRrVz1FFABRRRQAUUUUAFFFFABRRRQAUUUUAFFFFABRRRQAUUUUAFFFFABRRRQAUUUUAFFFFABRRRQAUUUUAFFFFABRRRQAUUUUAFFFFABRRRQAUUUUAFFFFABRRRQAUUUUAFFFFABRRRQAUUUUAFFFFABRRRQAUUUUAFFFFABRRRQAUUUUAFFFFABRRRQAUUUUAFFFFABRRRQAUUUUAFFFFABRRRQAUUUUAFFFFABRRRQAUUUUAW4bVJIVclsn0ooooA//9k=)"
   ]
  },
  {
   "cell_type": "code",
   "execution_count": 1,
   "metadata": {
    "colab": {
     "base_uri": "https://localhost:8080/"
    },
    "id": "TcjSeM_c-8WV",
    "outputId": "81417b5c-fdec-4651-d3b0-c3714be80ae9",
    "slideshow": {
     "slide_type": "subslide"
    }
   },
   "outputs": [
    {
     "name": "stdout",
     "output_type": "stream",
     "text": [
      "Mont\n",
      "P\n",
      "Python\n"
     ]
    }
   ],
   "source": [
    "s = 'Monty Python'\n",
    "print(s[0:4])\n",
    "print(s[6:7])\n",
    "print(s[6:20])"
   ]
  },
  {
   "cell_type": "markdown",
   "metadata": {
    "id": "2Yamwr7s_ivx",
    "slideshow": {
     "slide_type": "subslide"
    }
   },
   "source": [
    "- 如果讓冒號運算子的第一個數字或第二個數字為空(不寫任何數字)，第一個數字不寫就預設為字串的開頭、第二個數字不寫就預設為字串的結尾\n",
    "![無標題繪圖 (2).jpg](data:image/jpeg;base64,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)"
   ]
  },
  {
   "cell_type": "code",
   "execution_count": 2,
   "metadata": {
    "colab": {
     "base_uri": "https://localhost:8080/"
    },
    "id": "lc1AP0Ff_2RF",
    "outputId": "6342f2b9-5b54-4739-b576-310331ca292b",
    "slideshow": {
     "slide_type": "subslide"
    }
   },
   "outputs": [
    {
     "name": "stdout",
     "output_type": "stream",
     "text": [
      "Mo\n",
      "thon\n",
      "Monty Python\n"
     ]
    }
   ],
   "source": [
    "s = 'Monty Python'\n",
    "print(s[:2])\n",
    "print(s[8:])\n",
    "print(s[:])"
   ]
  },
  {
   "cell_type": "markdown",
   "metadata": {
    "id": "Kt7iaWoB__TM",
    "slideshow": {
     "slide_type": "subslide"
    }
   },
   "source": [
    "### 字串連接 (String Concatenation)\n",
    "- 對兩個字串使用+符號時，表示連接兩個字串"
   ]
  },
  {
   "cell_type": "code",
   "execution_count": 3,
   "metadata": {
    "colab": {
     "base_uri": "https://localhost:8080/"
    },
    "id": "YH0_gOhuAQmR",
    "outputId": "e1d380f1-bf04-481d-85cc-2fd72df600d5",
    "slideshow": {
     "slide_type": "fragment"
    }
   },
   "outputs": [
    {
     "name": "stdout",
     "output_type": "stream",
     "text": [
      "HelloThere\n",
      "Hello There\n"
     ]
    }
   ],
   "source": [
    "a = 'Hello'\n",
    "b = a + 'There'\n",
    "print(b)\n",
    "\n",
    "c = a + ' ' + 'There'\n",
    "print(c)"
   ]
  },
  {
   "cell_type": "markdown",
   "metadata": {
    "id": "9tzxiDA1AXjU",
    "slideshow": {
     "slide_type": "subslide"
    }
   },
   "source": [
    "### 使用in當作字串的邏輯運算子\n",
    "- in這個字除了使用在for迴圈，也可以使用在檢查某一段字串是不是「有包含(in)」特定的字串在其中\n",
    "- 所以in的檢查會表示True或False，所以可以用在if的判斷式中"
   ]
  },
  {
   "cell_type": "code",
   "execution_count": 6,
   "metadata": {
    "colab": {
     "base_uri": "https://localhost:8080/"
    },
    "id": "PpSDzjTeA4DS",
    "outputId": "363af36a-d70c-4e59-c578-96095ab71aaf",
    "slideshow": {
     "slide_type": "subslide"
    }
   },
   "outputs": [
    {
     "name": "stdout",
     "output_type": "stream",
     "text": [
      "True\n",
      "False\n",
      "True\n",
      "Found it!\n"
     ]
    }
   ],
   "source": [
    "fruit = 'banana'\n",
    "print('n' in fruit)\n",
    "print('m' in fruit)\n",
    "print('nan' in fruit)\n",
    "if 'a' in fruit:\n",
    "    print('Found it!')"
   ]
  },
  {
   "cell_type": "markdown",
   "metadata": {
    "id": "O5ztFVyIBBfR",
    "slideshow": {
     "slide_type": "subslide"
    }
   },
   "source": [
    "### 字串比較\n"
   ]
  },
  {
   "cell_type": "code",
   "execution_count": 9,
   "metadata": {
    "colab": {
     "base_uri": "https://localhost:8080/"
    },
    "id": "pJpy2PCdBNtg",
    "outputId": "94048337-9a0c-4347-f7b7-0ddd88e26cc2",
    "slideshow": {
     "slide_type": "subslide"
    }
   },
   "outputs": [
    {
     "name": "stdout",
     "output_type": "stream",
     "text": [
      "All right, bananas.\n",
      "All right, bananas.\n"
     ]
    }
   ],
   "source": [
    "# 試著改變word的內容試看看\n",
    "word = 'banana'\n",
    "# word = 'bZffee'\n",
    "if word == 'banana':\n",
    "    print('All right, bananas.')\n",
    "\n",
    "# A > Z, Z > a, a > z\n",
    "if word < 'banana':\n",
    "    print('Your word,' + word + ', comes before banana')\n",
    "elif word > 'banana':\n",
    "    print('Your word,' + word + ', comes after banana')\n",
    "else:\n",
    "    print('All right, bananas.')"
   ]
  },
  {
   "cell_type": "markdown",
   "metadata": {
    "id": "U5X2B14xmRCR",
    "slideshow": {
     "slide_type": "slide"
    }
   },
   "source": [
    "### 其他操作字串功能\n",
    "- Python在字串中有許多字串內建函數\n"
   ]
  },
  {
   "cell_type": "code",
   "execution_count": 1,
   "metadata": {
    "colab": {
     "base_uri": "https://localhost:8080/"
    },
    "id": "iY7W0uh_mqps",
    "outputId": "10a76706-06b0-4140-832e-95ddf3c88f71",
    "slideshow": {
     "slide_type": "subslide"
    }
   },
   "outputs": [
    {
     "name": "stdout",
     "output_type": "stream",
     "text": [
      "hello bob\n",
      "Hello Bob\n",
      "hi there\n"
     ]
    }
   ],
   "source": [
    "greet = 'Hello Bob'\n",
    "zap = greet.lower()\n",
    "print(zap)\n",
    "print(greet)\n",
    "print('Hi There'.lower())"
   ]
  },
  {
   "cell_type": "markdown",
   "metadata": {
    "id": "rQNIPGk_mxru",
    "slideshow": {
     "slide_type": "subslide"
    }
   },
   "source": [
    "- 常用的一些字串內建函數\n",
    "  - str.capitalize()\n",
    "  - str.center(width[, fillchar])\n",
    "  - str.endswith(suffix[, start[, end]])\n",
    "  - str.find(sub[, start[, end]])\n",
    "  - str.lstrip([chars])\n",
    "  - str.replace(old, new[, count])\n",
    "  - str.lower()\n",
    "  - str.rstrip([char])\n",
    "  - str.strip([char])\n",
    "  - str.upper()"
   ]
  },
  {
   "cell_type": "markdown",
   "metadata": {
    "id": "bxyUtHMInfLd",
    "slideshow": {
     "slide_type": "subslide"
    }
   },
   "source": [
    "#### 找尋字串 find()\n",
    "- 我們使用find()來尋找某些特定的文字/字串在其他字串中的位置\n",
    "- find()會回傳字串中首先找到的位置\n",
    "- 如果找不到，find()會回傳-1\n",
    "- **要記得，字串開始的位置是0**"
   ]
  },
  {
   "cell_type": "code",
   "execution_count": 2,
   "metadata": {
    "colab": {
     "base_uri": "https://localhost:8080/"
    },
    "id": "6lZFOv3kn-wy",
    "outputId": "ec402f85-14c1-43c9-a408-d2d3e4d7e968",
    "slideshow": {
     "slide_type": "subslide"
    }
   },
   "outputs": [
    {
     "name": "stdout",
     "output_type": "stream",
     "text": [
      "2\n",
      "-1\n"
     ]
    }
   ],
   "source": [
    "fruit = 'banana'\n",
    "pos = fruit.find('na')\n",
    "print(pos)\n",
    "\n",
    "aa = fruit.find('z')\n",
    "print(aa)"
   ]
  },
  {
   "cell_type": "markdown",
   "metadata": {
    "id": "ZPr_38XwoBz7",
    "slideshow": {
     "slide_type": "subslide"
    }
   },
   "source": [
    "#### 所有字轉為大小寫 upper()/lower()\n",
    "- 你可以讓字串轉為完全大寫或小寫\n",
    "- 我們多半會把文字轉為小寫在進行find()，這樣不管文字大小寫都可以正確找到"
   ]
  },
  {
   "cell_type": "code",
   "execution_count": null,
   "metadata": {
    "id": "TXEK9SFNoYow",
    "slideshow": {
     "slide_type": "subslide"
    }
   },
   "outputs": [],
   "source": [
    "greet = 'Hello Bob'\n",
    "nnn = greet.upper()\n",
    "print(nnn)\n",
    "\n",
    "www = greet.lower()\n",
    "print(www)"
   ]
  },
  {
   "cell_type": "markdown",
   "metadata": {
    "id": "mURqGWxUoc7q",
    "slideshow": {
     "slide_type": "subslide"
    }
   },
   "source": [
    "#### 替換文字 replace()\n",
    "- replace()可以尋找特定文字並替換掉\n",
    "- replace()會將所有找到的特定文字**全部**都替換掉"
   ]
  },
  {
   "cell_type": "code",
   "execution_count": 3,
   "metadata": {
    "colab": {
     "base_uri": "https://localhost:8080/"
    },
    "id": "0SIYiQEcosID",
    "outputId": "3c1cafa5-5416-4e4f-f054-d246312932b9",
    "slideshow": {
     "slide_type": "subslide"
    }
   },
   "outputs": [
    {
     "name": "stdout",
     "output_type": "stream",
     "text": [
      "Hello Jane\n",
      "HellX BXb\n"
     ]
    }
   ],
   "source": [
    "greet = 'Hello Bob'\n",
    "nstr = greet.replace('Bob', 'Jane')\n",
    "print(nstr)\n",
    "\n",
    "nstr = greet.replace('o', 'X')\n",
    "print(nstr)"
   ]
  },
  {
   "cell_type": "markdown",
   "metadata": {
    "id": "DK9D3LcYo0eX",
    "slideshow": {
     "slide_type": "subslide"
    }
   },
   "source": [
    "#### 去除空白 strip()\n",
    "- 我們可以使用以下方法去除字串開頭結尾的空白\n",
    "- lstrip()移除字串左方的空白\n",
    "- rstrip()移除字串右方的空白\n",
    "- strip()移除左方與右方的空白"
   ]
  },
  {
   "cell_type": "code",
   "execution_count": 4,
   "metadata": {
    "colab": {
     "base_uri": "https://localhost:8080/"
    },
    "id": "Q8UmUWBDpQ41",
    "outputId": "abcf75d6-5757-4924-948e-65676324bf00",
    "slideshow": {
     "slide_type": "subslide"
    }
   },
   "outputs": [
    {
     "name": "stdout",
     "output_type": "stream",
     "text": [
      "---Hello Bob   ---\n",
      "---   Hello Bob---\n",
      "---Hello Bob---\n"
     ]
    }
   ],
   "source": [
    "greet = '   Hello Bob   '\n",
    "print('---' + greet.lstrip() + '---')\n",
    "\n",
    "print('---' + greet.rstrip() + '---')\n",
    "\n",
    "print('---' + greet.strip() + '---')"
   ]
  },
  {
   "cell_type": "markdown",
   "metadata": {
    "id": "E3Ri143mpVjV",
    "slideshow": {
     "slide_type": "subslide"
    }
   },
   "source": [
    "#### 檢查字串開頭"
   ]
  },
  {
   "cell_type": "code",
   "execution_count": 5,
   "metadata": {
    "colab": {
     "base_uri": "https://localhost:8080/"
    },
    "id": "fw8WZ4Y_pcDP",
    "outputId": "41d19162-004d-4d0d-ad58-de556cd13a89",
    "slideshow": {
     "slide_type": "fragment"
    }
   },
   "outputs": [
    {
     "name": "stdout",
     "output_type": "stream",
     "text": [
      "True\n",
      "False\n"
     ]
    }
   ],
   "source": [
    "line = 'Please have a nice day'\n",
    "print(line.startswith('Please'))\n",
    "print(line.startswith('p'))"
   ]
  },
  {
   "cell_type": "markdown",
   "metadata": {
    "id": "uKiq3vVMpglg",
    "slideshow": {
     "slide_type": "subslide"
    }
   },
   "source": [
    "###從字串中剖析並找出特定資訊\n",
    "```\n",
    "From stephen.marquard@utc.ac.za Sat Jan  5 09:14:16 2008\n",
    "                     ↑         ↑\n",
    "                     21        31\n",
    "```"
   ]
  },
  {
   "cell_type": "code",
   "execution_count": 6,
   "metadata": {
    "colab": {
     "base_uri": "https://localhost:8080/"
    },
    "id": "ZMqRZxOppst7",
    "outputId": "a40ecab9-a1b2-41c7-ff5d-f5f54e7c14bb",
    "slideshow": {
     "slide_type": "subslide"
    }
   },
   "outputs": [
    {
     "name": "stdout",
     "output_type": "stream",
     "text": [
      "21\n",
      "31\n",
      "utc.ac.za\n"
     ]
    }
   ],
   "source": [
    "data = 'From stephen.marquard@utc.ac.za Sat Jan  5 09:14:16 2008'\n",
    "atpos = data.find('@')\n",
    "print(atpos)\n",
    "\n",
    "sppos = data.find(' ', atpos)\n",
    "print(sppos)\n",
    "\n",
    "host = data[atpos+1 : sppos]\n",
    "print(host)"
   ]
  },
  {
   "cell_type": "markdown",
   "metadata": {
    "id": "LLozWRMsp6aA",
    "slideshow": {
     "slide_type": "slide"
    }
   },
   "source": [
    "## **總結**\n",
    "- String type\n",
    "- Read / Convert\n",
    "- Indexing strings []\n",
    "- Slicing strings [2:4]\n",
    "- Looping through strings with for and while\n",
    "- Concatenation strings with +\n",
    "- String operations\n",
    "- String Comparisons\n",
    "- String library\n",
    "  - Searching in strings\n",
    "  - Replacing text\n",
    "  - Stripping white space"
   ]
  },
  {
   "cell_type": "markdown",
   "metadata": {
    "id": "weVtght8qOAr",
    "slideshow": {
     "slide_type": "slide"
    }
   },
   "source": [
    "## **作業**\n",
    "- 寫一段程式碼，使用find()與字串切割(slice)取出以下字串最後的數字，並將該數字轉為浮點數印在畫面上\n",
    "  - X-DSPAM- Confidence:    0.8475"
   ]
  },
  {
   "cell_type": "markdown",
   "metadata": {
    "id": "HSkIi2B0q5ve",
    "slideshow": {
     "slide_type": "slide"
    }
   },
   "source": [
    "# Acknowledgements / Contributions\n",
    "\n",
    "[Python For Everyone](www.py4e.com)\n",
    "- These slides are Copyright 2010-  Charles R. Severance (www.dr-chuck.com) of the University of Michigan School of Information and made available under a Creative Commons Attribution 4.0 License.  Please maintain this last slide in all copies of the document to comply with the attribution requirements of the license.  If you make a change, feel free to add your name and organization to the list of contributors on this page as you republish the materials.\n",
    "\n",
    "- Initial Development: Charles Severance, University of Michigan School of Information\n",
    "\n",
    "\n",
    "![by.png](data:image/png;base64,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)"
   ]
  }
 ],
 "metadata": {
  "celltoolbar": "Slideshow",
  "colab": {
   "collapsed_sections": [],
   "name": "06.字串.ipynb",
   "provenance": [],
   "toc_visible": true
  },
  "kernelspec": {
   "display_name": "Python 3",
   "language": "python",
   "name": "python3"
  },
  "language_info": {
   "codemirror_mode": {
    "name": "ipython",
    "version": 3
   },
   "file_extension": ".py",
   "mimetype": "text/x-python",
   "name": "python",
   "nbconvert_exporter": "python",
   "pygments_lexer": "ipython3",
   "version": "3.8.3"
  }
 },
 "nbformat": 4,
 "nbformat_minor": 1
}
